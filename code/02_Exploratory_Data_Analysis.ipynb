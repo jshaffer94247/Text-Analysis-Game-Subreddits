{
 "cells": [
  {
   "cell_type": "markdown",
   "metadata": {},
   "source": [
    "### 02_Exploratory_Data_Analysis\n",
    "\n",
    "Purpose:\n",
    " - Read in the reddit posts\n",
    " - Look for patterns or pieces to remove\n",
    " - Save the cleaned data to hand off to model building"
   ]
  },
  {
   "cell_type": "markdown",
   "metadata": {},
   "source": [
    "## Imports and notebook settings"
   ]
  },
  {
   "cell_type": "code",
   "execution_count": 1,
   "metadata": {},
   "outputs": [],
   "source": [
    "# imports\n",
    "import pandas as pd\n",
    "\n",
    "import matplotlib.pyplot as plt\n",
    "import seaborn as sns\n",
    "\n",
    "import missingno as msno\n",
    "import time"
   ]
  },
  {
   "cell_type": "code",
   "execution_count": 2,
   "metadata": {},
   "outputs": [],
   "source": [
    "# Global options to increase rows and columns displayed\n",
    "pd.set_option('display.max_columns', None)\n",
    "# pd.reset_option(“max_columns”) # to reset back to limited columns\n",
    "pd.set_option(\"max_rows\", None)"
   ]
  },
  {
   "cell_type": "markdown",
   "metadata": {},
   "source": [
    "## Read in data files and set globals"
   ]
  },
  {
   "cell_type": "code",
   "execution_count": 3,
   "metadata": {},
   "outputs": [
    {
     "name": "stdout",
     "output_type": "stream",
     "text": [
      "CallOfDuty_4000_2020-05-28_192353.csv callofduty_dnd_final.csv\r\n",
      "DnD_4000_2020-05-28_192119.csv\r\n"
     ]
    }
   ],
   "source": [
    "!ls ../posts"
   ]
  },
  {
   "cell_type": "code",
   "execution_count": 4,
   "metadata": {},
   "outputs": [
    {
     "name": "stdout",
     "output_type": "stream",
     "text": [
      "subreddit_1 is CallOfDuty\n",
      "subreddit_2 is DnD\n"
     ]
    }
   ],
   "source": [
    "# Read in files full of posts\n",
    "\n",
    "f_one = '../posts/CallOfDuty_4000_2020-05-28_192353.csv'\n",
    "f_two = '../posts/DnD_4000_2020-05-28_192119.csv'\n",
    "subreddit_1 = 'CallOfDuty'\n",
    "subreddit_2 = 'DnD'   \n",
    "\n",
    "print(f\"subreddit_1 is {subreddit_1}\")\n",
    "print(f\"subreddit_2 is {subreddit_2}\")"
   ]
  },
  {
   "cell_type": "code",
   "execution_count": 5,
   "metadata": {},
   "outputs": [
    {
     "name": "stdout",
     "output_type": "stream",
     "text": [
      "CallOfDuty    4000\n",
      "Name: subreddit, dtype: int64\n",
      "DnD    4000\n",
      "Name: subreddit, dtype: int64\n"
     ]
    }
   ],
   "source": [
    "# Create data frames\n",
    "df_sub_1 = pd.read_csv(f_one)\n",
    "df_sub_2 = pd.read_csv(f_two)\n",
    "\n",
    "# Double check posts\n",
    "print(df_sub_1['subreddit'].value_counts())\n",
    "print(df_sub_2['subreddit'].value_counts())"
   ]
  },
  {
   "cell_type": "code",
   "execution_count": 6,
   "metadata": {},
   "outputs": [
    {
     "name": "stdout",
     "output_type": "stream",
     "text": [
      "sub_1 data : (4000, 80)\n",
      "sub_2 data : (4000, 82)\n"
     ]
    }
   ],
   "source": [
    "# Compare data amounts\n",
    "print(f\"sub_1 data : {df_sub_1.shape}\")\n",
    "print(f\"sub_2 data : {df_sub_2.shape}\")\n",
    "# Before cleaning, there are exactly the same number of posts (4000) from each subredit."
   ]
  },
  {
   "cell_type": "markdown",
   "metadata": {},
   "source": [
    "# Explore missing data"
   ]
  },
  {
   "cell_type": "code",
   "execution_count": 7,
   "metadata": {},
   "outputs": [
    {
     "data": {
      "text/plain": [
       "Index(['all_awardings', 'allow_live_comments', 'author',\n",
       "       'author_flair_css_class', 'author_flair_richtext', 'author_flair_text',\n",
       "       'author_flair_type', 'author_fullname', 'author_patreon_flair',\n",
       "       'author_premium', 'awarders', 'can_mod_post', 'contest_mode',\n",
       "       'created_utc', 'domain', 'full_link', 'gildings', 'id',\n",
       "       'is_crosspostable', 'is_meta', 'is_original_content',\n",
       "       'is_reddit_media_domain', 'is_robot_indexable', 'is_self', 'is_video',\n",
       "       'link_flair_background_color', 'link_flair_richtext',\n",
       "       'link_flair_template_id', 'link_flair_text', 'link_flair_text_color',\n",
       "       'link_flair_type', 'locked', 'media_only', 'no_follow', 'num_comments',\n",
       "       'num_crossposts', 'over_18', 'parent_whitelist_status', 'permalink',\n",
       "       'pinned', 'pwls', 'retrieved_on', 'score', 'selftext', 'send_replies',\n",
       "       'spoiler', 'stickied', 'subreddit', 'subreddit_id',\n",
       "       'subreddit_subscribers', 'subreddit_type', 'suggested_sort',\n",
       "       'thumbnail', 'title', 'total_awards_received', 'treatment_tags',\n",
       "       'upvote_ratio', 'url', 'whitelist_status', 'wls', 'removed_by_category',\n",
       "       'post_hint', 'preview', 'thumbnail_height', 'thumbnail_width', 'media',\n",
       "       'media_embed', 'secure_media', 'secure_media_embed',\n",
       "       'link_flair_css_class', 'poll_data', 'crosspost_parent',\n",
       "       'crosspost_parent_list', 'author_flair_background_color',\n",
       "       'author_flair_text_color', 'banned_by', 'edited', 'media_metadata',\n",
       "       'author_cakeday', 'author_flair_template_id'],\n",
       "      dtype='object')"
      ]
     },
     "execution_count": 7,
     "metadata": {},
     "output_type": "execute_result"
    }
   ],
   "source": [
    "# Check columns\n",
    "df_sub_1.columns"
   ]
  },
  {
   "cell_type": "markdown",
   "metadata": {},
   "source": [
    "### Explore posts flagged as 'banned'"
   ]
  },
  {
   "cell_type": "code",
   "execution_count": 8,
   "metadata": {},
   "outputs": [
    {
     "name": "stdout",
     "output_type": "stream",
     "text": [
      "CallOfDuty banned posts: moderators    33\n",
      "Name: banned_by, dtype: int64\n",
      "DnD doesn't include the data for 'banned_by'\n"
     ]
    }
   ],
   "source": [
    "# Explore the 'banned_by', 'mod_reports', and 'user_reports' fields\n",
    "#     perhaps there will be posts we should drop\n",
    "if 'banned_by' in df_sub_1.columns:\n",
    "    print(f\"{subreddit_1} banned posts: {df_sub_1['banned_by'].value_counts()}\")\n",
    "else: \n",
    "    print(f\"{subreddit_1} doesn't include the data for 'banned_by'\")\n",
    "    \n",
    "if 'banned_by' in df_sub_2.columns:\n",
    "    print(f\"{subreddit_2} banned posts: {df_sub_2['banned_by'].value_counts()}\")\n",
    "else:\n",
    "    print(f\"{subreddit_2} doesn't include the data for 'banned_by'\")\n",
    "# Note: it appears that the 'banned_by' column is only included if the downloaded posts \n",
    "#  include some that have been banned."
   ]
  },
  {
   "cell_type": "code",
   "execution_count": 9,
   "metadata": {},
   "outputs": [],
   "source": [
    "if 'banned_by' in df_sub_2.columns:\n",
    "    df_sub_2.loc[df_sub_2['banned_by']=='moderators',\n",
    "             ['title','selftext','author','num_comments']].head(2)\n",
    "# looks like info is deleted; get rid of these"
   ]
  },
  {
   "cell_type": "code",
   "execution_count": 10,
   "metadata": {},
   "outputs": [
    {
     "name": "stdout",
     "output_type": "stream",
     "text": [
      "df_sub_1 after drop (3967, 80)\n",
      "    df_sub_1: Series([], Name: banned_by, dtype: int64)\n"
     ]
    }
   ],
   "source": [
    "# Keep only posts that were not banned by the moderators\n",
    "\n",
    "if 'banned_by' in df_sub_1.columns:\n",
    "    df_sub_1 = df_sub_1[df_sub_1['banned_by']!='moderators']\n",
    "    print(f\"df_sub_1 after drop {df_sub_1.shape}\")\n",
    "    print(f\"    df_sub_1: {df_sub_1['banned_by'].value_counts()}\")\n",
    "if 'banned_by' in df_sub_2.columns:\n",
    "    df_sub_2 = df_sub_2[df_sub_2['banned_by']!='moderators']\n",
    "    print(f\"df_sub_2 after drop  {df_sub_2.shape}\")\n",
    "    print(f\"    df_dub_2: {df_sub_2['banned_by'].value_counts()}\")"
   ]
  },
  {
   "cell_type": "markdown",
   "metadata": {},
   "source": [
    "### Missing or mismatched columns"
   ]
  },
  {
   "cell_type": "code",
   "execution_count": 11,
   "metadata": {},
   "outputs": [
    {
     "name": "stdout",
     "output_type": "stream",
     "text": [
      "Not in sub_1:     category\n",
      "Not in sub_1:     content_categories\n",
      "Not in sub_2:     banned_by\n",
      "Not in sub_1:     distinguished\n",
      "\n",
      "Columns to drop: ['category', 'content_categories', 'banned_by', 'distinguished']\n"
     ]
    }
   ],
   "source": [
    "# Sometimes the fetched data doesn't have all the same columns\n",
    "superset = set(list(df_sub_1.columns) + list(df_sub_2.columns)) \n",
    "\n",
    "cols_to_drop = []\n",
    "\n",
    "for col in superset:\n",
    "    if col not in df_sub_1.columns:\n",
    "        print(f\"Not in sub_1:     {col}\")\n",
    "        cols_to_drop.append(col)\n",
    "    if col not in df_sub_2.columns:\n",
    "        print(f\"Not in sub_2:     {col}\")\n",
    "        cols_to_drop.append(col)\n",
    "print(f\"\\nColumns to drop: {cols_to_drop}\")"
   ]
  },
  {
   "cell_type": "code",
   "execution_count": 12,
   "metadata": {},
   "outputs": [],
   "source": [
    "# Drop the mismatched columns - since not all have the same columns, also need to\n",
    "#    set errors to 'ignore'\n",
    "df_sub_1.drop(columns=cols_to_drop,  inplace=True, errors='ignore')\n",
    "df_sub_2.drop(columns=cols_to_drop,  inplace=True, errors='ignore')"
   ]
  },
  {
   "cell_type": "code",
   "execution_count": 13,
   "metadata": {},
   "outputs": [
    {
     "data": {
      "text/plain": [
       "(7967, 79)"
      ]
     },
     "execution_count": 13,
     "metadata": {},
     "output_type": "execute_result"
    }
   ],
   "source": [
    "# Put all data in one dataframe\n",
    "df_all = df_sub_1.copy()\n",
    "df_all = df_all.append(df_sub_2)\n",
    "df_all.shape"
   ]
  },
  {
   "cell_type": "markdown",
   "metadata": {},
   "source": [
    "### Explore missing data"
   ]
  },
  {
   "cell_type": "code",
   "execution_count": 14,
   "metadata": {
    "scrolled": true
   },
   "outputs": [
    {
     "data": {
      "image/png": "[encoded data removed]",
      "text/plain": [
       "<Figure size 1008x288 with 2 Axes>"
      ]
     },
     "metadata": {
      "needs_background": "light"
     },
     "output_type": "display_data"
    }
   ],
   "source": [
    "# Visualize missing data\n",
    "msno.matrix(df_all,figsize=(14,4), fontsize=12);"
   ]
  },
  {
   "cell_type": "code",
   "execution_count": 15,
   "metadata": {},
   "outputs": [],
   "source": [
    "# Review missing data - uncomment to see the list\n",
    "#df_all.isnull().sum()\n",
    "\n",
    "# Key findings:\n",
    "#     title    -    0 missing\n",
    "#     selftext - 2576 missing"
   ]
  },
  {
   "cell_type": "markdown",
   "metadata": {},
   "source": [
    "**Discussion**\n",
    "\n",
    " 1. There are a large number of columns with no data. After looking over the useful columns, may need to revisit whether anything needs to be imputed. If the column is not needed, then no imputing will be done.\n",
    "\n",
    " 1. Some posts contain a request for help or 'look at this' in the title and then a screensot or art image. In this case, the key text is already in the title.\n",
    " \n",
    " 1. Some posts contain a generic title such as \"Please help\" and then the important content is in the body of the message (column 'selftext').\n",
    " \n",
    "DECISION: Combine the title and selftext fields."
   ]
  },
  {
   "cell_type": "code",
   "execution_count": 16,
   "metadata": {},
   "outputs": [],
   "source": [
    "# Combine title and body of post\n",
    "df_all['combo_post'] = df_all.apply(lambda x: str(x['title'])+' '+str(x['selftext']),\n",
    "                                    axis=1)"
   ]
  },
  {
   "cell_type": "markdown",
   "metadata": {},
   "source": [
    "### Explore other meta data for the posts"
   ]
  },
  {
   "cell_type": "code",
   "execution_count": 17,
   "metadata": {},
   "outputs": [],
   "source": [
    "# Explore columns - commented out due to length\n",
    "#for col in list(df_all.columns):\n",
    "#    print(f\"\\n\\n{col}:  {df_all[col].value_counts()}\")"
   ]
  },
  {
   "cell_type": "code",
   "execution_count": 18,
   "metadata": {},
   "outputs": [],
   "source": [
    "# Explored these columns in some subreddits; concluded not useful\n",
    "# df_sub_1['mod_reports'].value_counts()  # nothing useful\n",
    "# df_sub_1['user_reports'].value_counts() # nothing useful"
   ]
  },
  {
   "cell_type": "code",
   "execution_count": 19,
   "metadata": {},
   "outputs": [],
   "source": [
    "# Explore contents of other columns \n",
    "#      none of these were interesting; they are not in all subreddits\n",
    "# df_all['spoiler'].value_counts() # all False; no value\n",
    "# df_all['thumbnail_height'].value_counts() # all ints from ~8 to ~140 ; no apparent value\n",
    "# df_all['approved_at_utc'].value_counts()  # no value\n",
    "# df_all['all_awardings'].value_counts() # no value\n",
    "# df_all['is_video'].value_counts() # 5 are true -- is there any text at all?"
   ]
  },
  {
   "cell_type": "code",
   "execution_count": 20,
   "metadata": {},
   "outputs": [
    {
     "data": {
      "text/html": [
       "<div>\n",
       "<style scoped>\n",
       "    .dataframe tbody tr th:only-of-type {\n",
       "        vertical-align: middle;\n",
       "    }\n",
       "\n",
       "    .dataframe tbody tr th {\n",
       "        vertical-align: top;\n",
       "    }\n",
       "\n",
       "    .dataframe thead th {\n",
       "        text-align: right;\n",
       "    }\n",
       "</style>\n",
       "<table border=\"1\" class=\"dataframe\">\n",
       "  <thead>\n",
       "    <tr style=\"text-align: right;\">\n",
       "      <th></th>\n",
       "      <th>author</th>\n",
       "      <th>title</th>\n",
       "      <th>selftext</th>\n",
       "    </tr>\n",
       "  </thead>\n",
       "  <tbody>\n",
       "    <tr>\n",
       "      <th>6</th>\n",
       "      <td>niklas_owo1</td>\n",
       "      <td>He left right after rip</td>\n",
       "      <td>NaN</td>\n",
       "    </tr>\n",
       "    <tr>\n",
       "      <th>15</th>\n",
       "      <td>ItsMeHazzard</td>\n",
       "      <td>SHOTGUN IS ALWAYS FUN TO USE 👀. https://youtu....</td>\n",
       "      <td>NaN</td>\n",
       "    </tr>\n",
       "    <tr>\n",
       "      <th>32</th>\n",
       "      <td>DonkeysYuHurdd</td>\n",
       "      <td>Practicing my dropshots. Any tips?</td>\n",
       "      <td>NaN</td>\n",
       "    </tr>\n",
       "    <tr>\n",
       "      <th>43</th>\n",
       "      <td>chaoticj3st3r</td>\n",
       "      <td>Parachutes only slow us down</td>\n",
       "      <td>NaN</td>\n",
       "    </tr>\n",
       "  </tbody>\n",
       "</table>\n",
       "</div>"
      ],
      "text/plain": [
       "            author                                              title selftext\n",
       "6      niklas_owo1                            He left right after rip      NaN\n",
       "15    ItsMeHazzard  SHOTGUN IS ALWAYS FUN TO USE 👀. https://youtu....      NaN\n",
       "32  DonkeysYuHurdd                 Practicing my dropshots. Any tips?      NaN\n",
       "43   chaoticj3st3r                       Parachutes only slow us down      NaN"
      ]
     },
     "execution_count": 20,
     "metadata": {},
     "output_type": "execute_result"
    }
   ],
   "source": [
    "# What if it's a video? \n",
    "# DECISION: keep title + selftext and it should be ok; \n",
    "#  title may be the message and video backs it up\n",
    "df_all.loc[df_all['is_video'] == True,['author','title','selftext']].head(4) "
   ]
  },
  {
   "cell_type": "code",
   "execution_count": 21,
   "metadata": {},
   "outputs": [
    {
     "data": {
      "text/plain": [
       "subreddit   is_crosspostable\n",
       "CallOfDuty  False               2472\n",
       "            True                1495\n",
       "DnD         True                3259\n",
       "            False                741\n",
       "Name: is_crosspostable, dtype: int64"
      ]
     },
     "execution_count": 21,
     "metadata": {},
     "output_type": "execute_result"
    }
   ],
   "source": [
    "# Explore for crossposts? Concluded that this column is not useful, \n",
    "#   but checking for cross-posts is useful\n",
    "df_all.groupby('subreddit')['is_crosspostable'].value_counts() "
   ]
  },
  {
   "cell_type": "code",
   "execution_count": 22,
   "metadata": {},
   "outputs": [
    {
     "data": {
      "text/html": [
       "<div>\n",
       "<style scoped>\n",
       "    .dataframe tbody tr th:only-of-type {\n",
       "        vertical-align: middle;\n",
       "    }\n",
       "\n",
       "    .dataframe tbody tr th {\n",
       "        vertical-align: top;\n",
       "    }\n",
       "\n",
       "    .dataframe thead th {\n",
       "        text-align: right;\n",
       "    }\n",
       "</style>\n",
       "<table border=\"1\" class=\"dataframe\">\n",
       "  <thead>\n",
       "    <tr style=\"text-align: right;\">\n",
       "      <th></th>\n",
       "      <th>author</th>\n",
       "      <th>title</th>\n",
       "      <th>selftext</th>\n",
       "      <th>subreddit</th>\n",
       "    </tr>\n",
       "  </thead>\n",
       "  <tbody>\n",
       "    <tr>\n",
       "      <th>2252</th>\n",
       "      <td>IronDemon96</td>\n",
       "      <td>[COD] Guess not...</td>\n",
       "      <td>NaN</td>\n",
       "      <td>CallOfDuty</td>\n",
       "    </tr>\n",
       "    <tr>\n",
       "      <th>2850</th>\n",
       "      <td>Acdartghoul</td>\n",
       "      <td>[Art] My Bard in a modern 5e campaign! Meet Mr...</td>\n",
       "      <td>NaN</td>\n",
       "      <td>DnD</td>\n",
       "    </tr>\n",
       "    <tr>\n",
       "      <th>2973</th>\n",
       "      <td>ProGamerBLT</td>\n",
       "      <td>[OC] \"Like a mountain I sit. I am immovable, a...</td>\n",
       "      <td>NaN</td>\n",
       "      <td>DnD</td>\n",
       "    </tr>\n",
       "  </tbody>\n",
       "</table>\n",
       "</div>"
      ],
      "text/plain": [
       "           author                                              title selftext  \\\n",
       "2252  IronDemon96                                 [COD] Guess not...      NaN   \n",
       "2850  Acdartghoul  [Art] My Bard in a modern 5e campaign! Meet Mr...      NaN   \n",
       "2973  ProGamerBLT  [OC] \"Like a mountain I sit. I am immovable, a...      NaN   \n",
       "\n",
       "       subreddit  \n",
       "2252  CallOfDuty  \n",
       "2850         DnD  \n",
       "2973         DnD  "
      ]
     },
     "execution_count": 22,
     "metadata": {},
     "output_type": "execute_result"
    }
   ],
   "source": [
    "# Explore crossposts - unclear if this is different from duplicate postings\n",
    "df_all['num_crossposts'].value_counts()   # 0 - 2663, 1 - 2 --> what else is in the 2?\n",
    "df_all.loc[df_all['num_crossposts']==1,['author','title','selftext','subreddit']]  \n",
    "# DECISION: ignore num_crossposts"
   ]
  },
  {
   "cell_type": "code",
   "execution_count": 23,
   "metadata": {},
   "outputs": [
    {
     "data": {
      "text/plain": [
       "subreddit   is_original_content\n",
       "CallOfDuty  False                  3886\n",
       "            True                     81\n",
       "DnD         False                  3467\n",
       "            True                    533\n",
       "Name: is_original_content, dtype: int64"
      ]
     },
     "execution_count": 23,
     "metadata": {},
     "output_type": "execute_result"
    }
   ],
   "source": [
    "# Explore idea of original content\n",
    "df_all.groupby('subreddit')['is_original_content'].value_counts()"
   ]
  },
  {
   "cell_type": "code",
   "execution_count": 24,
   "metadata": {},
   "outputs": [
    {
     "data": {
      "text/html": [
       "<div>\n",
       "<style scoped>\n",
       "    .dataframe tbody tr th:only-of-type {\n",
       "        vertical-align: middle;\n",
       "    }\n",
       "\n",
       "    .dataframe tbody tr th {\n",
       "        vertical-align: top;\n",
       "    }\n",
       "\n",
       "    .dataframe thead th {\n",
       "        text-align: right;\n",
       "    }\n",
       "</style>\n",
       "<table border=\"1\" class=\"dataframe\">\n",
       "  <thead>\n",
       "    <tr style=\"text-align: right;\">\n",
       "      <th></th>\n",
       "      <th>author</th>\n",
       "      <th>title</th>\n",
       "      <th>selftext</th>\n",
       "      <th>subreddit</th>\n",
       "    </tr>\n",
       "  </thead>\n",
       "  <tbody>\n",
       "    <tr>\n",
       "      <th>0</th>\n",
       "      <td>ant_thomas93</td>\n",
       "      <td>[BO2] got a question</td>\n",
       "      <td>I tried MW2 for ages earlier and couldn’t get ...</td>\n",
       "      <td>CallOfDuty</td>\n",
       "    </tr>\n",
       "    <tr>\n",
       "      <th>1</th>\n",
       "      <td>cameronlund08</td>\n",
       "      <td>[COD] Most Populated COD’s? (XB1, MP)</td>\n",
       "      <td>[removed]</td>\n",
       "      <td>CallOfDuty</td>\n",
       "    </tr>\n",
       "    <tr>\n",
       "      <th>2</th>\n",
       "      <td>aquang28</td>\n",
       "      <td>Death to the MPLA</td>\n",
       "      <td>NaN</td>\n",
       "      <td>CallOfDuty</td>\n",
       "    </tr>\n",
       "  </tbody>\n",
       "</table>\n",
       "</div>"
      ],
      "text/plain": [
       "          author                                  title  \\\n",
       "0   ant_thomas93                   [BO2] got a question   \n",
       "1  cameronlund08  [COD] Most Populated COD’s? (XB1, MP)   \n",
       "2       aquang28                      Death to the MPLA   \n",
       "\n",
       "                                            selftext   subreddit  \n",
       "0  I tried MW2 for ages earlier and couldn’t get ...  CallOfDuty  \n",
       "1                                          [removed]  CallOfDuty  \n",
       "2                                                NaN  CallOfDuty  "
      ]
     },
     "execution_count": 24,
     "metadata": {},
     "output_type": "execute_result"
    }
   ],
   "source": [
    "df_all.loc[df_all['is_original_content']==False,\n",
    "           ['author','title','selftext','subreddit']].head(3)\n",
    "# Reviewed a few on subreddit; flag doesn't seem useful here"
   ]
  },
  {
   "cell_type": "code",
   "execution_count": 25,
   "metadata": {},
   "outputs": [
    {
     "data": {
      "text/plain": [
       "subreddit   no_follow\n",
       "CallOfDuty  True         3926\n",
       "            False          41\n",
       "DnD         True         3841\n",
       "            False         159\n",
       "Name: no_follow, dtype: int64"
      ]
     },
     "execution_count": 25,
     "metadata": {},
     "output_type": "execute_result"
    }
   ],
   "source": [
    "# Columns with True/False values - no value for text extraction\n",
    "df_all.groupby('subreddit')['is_reddit_media_domain'].value_counts()\n",
    "df_all.groupby('subreddit')['is_robot_indexable'].value_counts()\n",
    "df_all.groupby('subreddit')['is_self'].value_counts()\n",
    "df_all.groupby('subreddit')['locked'].value_counts()\n",
    "df_all.groupby('subreddit')['no_follow'].value_counts()"
   ]
  },
  {
   "cell_type": "code",
   "execution_count": 26,
   "metadata": {},
   "outputs": [],
   "source": [
    "# Explored; unclear if this has value; revisit if needed\n",
    "# df_all.groupby('subreddit')['score'].value_counts() "
   ]
  },
  {
   "cell_type": "code",
   "execution_count": 27,
   "metadata": {},
   "outputs": [],
   "source": [
    "# Explored; unclear if this has value; revisit if needed\n",
    "# df_all.groupby('subreddit')['parent_whitelist_status'].value_counts() "
   ]
  },
  {
   "cell_type": "markdown",
   "metadata": {},
   "source": [
    "### Search for cross posts and remove\n",
    "\n",
    "Posts that are made in both threads may or may not belong in either thread, so they will be programmatically removed."
   ]
  },
  {
   "cell_type": "code",
   "execution_count": 28,
   "metadata": {},
   "outputs": [],
   "source": [
    "# Optionally view the duplicated posts\n",
    "#dups = df_all[df_all.duplicated(['combo_post','subreddit'])]\n",
    "#dups[['combo_post','subreddit']].sort_values(by='combo_post')\n",
    "# Note that this will only show the duplicates; if you see 2, that means there\n",
    "#   were actually 3 in the original list"
   ]
  },
  {
   "cell_type": "code",
   "execution_count": 29,
   "metadata": {},
   "outputs": [
    {
     "name": "stdout",
     "output_type": "stream",
     "text": [
      "Before: (7967, 80)\n",
      "After:  (7801, 80)\n"
     ]
    }
   ],
   "source": [
    "# First, drop duplicates where both combo_post AND subreddit are the same\n",
    "print(f\"Before: {df_all.shape}\")\n",
    "df_all.drop_duplicates(subset=['combo_post','subreddit'],inplace=True)\n",
    "print(f\"After:  {df_all.shape}\")"
   ]
  },
  {
   "cell_type": "code",
   "execution_count": 30,
   "metadata": {
    "scrolled": false
   },
   "outputs": [
    {
     "data": {
      "text/plain": [
       "Suspicious a player might be cheating This might be long so I will try to be brief, also this is on mobile so please excuse any formatting issues. I am part of a 5 person campaign currently being run through discord just using voice not video. 4/5 of us have rolled character sheets through roll20 and continue to make all rolls through the bot. Our 5th player is rolling his own dice and then reporting his numbers. Each session (so far 8 sessions total) he has gotten at least 3 nat 20s, which while not impossible feels fishy to the rest of us. We’ve brought our concerns up to the DM in passing but he doesn’t want to accuse anyone of cheating. What’s the best way to go about this? Bring the concerns to the DM again and see what he says?                         1\n",
       "BOOM HEADSHOT! Heli-headshot, rear propeller mince meat. (Sound on). nan                                                                                                                                                                                                                                                                                                                                                                                                                                                                                                                                                                                                                                                                                                                        1\n",
       "What cultures would the 10 Dragons be from? So I love having Dragons dominate areas of a world that uniquely fits them. So that way, you don’t have every city state on the sword coast know “Oh, that’s a [color] dragon!” But rather each dragon is THE dragon of that region.\\n\\nIn this case, I’m basing a world off of the unique cultural flavors each of the ten dragons has in its design. And immediately hit the brick wall of “What ARE the inspirations for some of these guys?!”\\n\\nThe absolute easiest is Gold being very much based of of Asian Dragons (I think specifically Chinese?). But what would the rest be?\\n\\nI think White could potentially be Norse. And then have Blue and Brass be apart of some Middle Eastern or Egyptian inspired culture. Idk, any ideas?    1\n",
       "I know it’s not the best but I haven’t played any COD since the release of this game in 2015. This was about my 5th game. I was using the preset kn44 class if anyone was wondering [deleted]                                                                                                                                                                                                                                                                                                                                                                                                                                                                                                                                                                                                   1\n",
       "Warforged - \"Sentry's Rest\" the animated armor ambush, but for PCs nan                                                                                                                                                                                                                                                                                                                                                                                                                                                                                                                                                                                                                                                                                                                          1\n",
       "Zombies ideas [removed]                                                                                                                                                                                                                                                                                                                                                                                                                                                                                                                                                                                                                                                                                                                                                                         1\n",
       "[OC][Art] Using that Deception Expertise for good (?) nan                                                                                                                                                                                                                                                                                                                                                                                                                                                                                                                                                                                                                                                                                                                                       1\n",
       "When does bo4 double xp end? [removed]                                                                                                                                                                                                                                                                                                                                                                                                                                                                                                                                                                                                                                                                                                                                                          1\n",
       "Grau or M4A1? Featuring Swagg. Look him up on YouTube!! Insane player!! nan                                                                                                                                                                                                                                                                                                                                                                                                                                                                                                                                                                                                                                                                                                                     1\n",
       "My Tankard of Sobriety illustration for a dnd campaign ! nan                                                                                                                                                                                                                                                                                                                                                                                                                                                                                                                                                                                                                                                                                                                                    1\n",
       "Name: combo_post, dtype: int64"
      ]
     },
     "execution_count": 30,
     "metadata": {},
     "output_type": "execute_result"
    }
   ],
   "source": [
    "# Next, look for duplicate posts that could be cross-posted\n",
    "df_all['combo_post'].value_counts().sort_values(ascending=False).head(10)"
   ]
  },
  {
   "cell_type": "markdown",
   "metadata": {},
   "source": [
    "**Discussion**\n",
    "\n",
    "Discovery of cross-posts is a key indicator that the 2 groups are not well separated. In the list above, there are no posts that are in both subreddits. (This is good.)"
   ]
  },
  {
   "cell_type": "code",
   "execution_count": 31,
   "metadata": {},
   "outputs": [
    {
     "name": "stdout",
     "output_type": "stream",
     "text": [
      "Before: (7801, 80)\n",
      "After:  (7801, 80)\n"
     ]
    }
   ],
   "source": [
    "# Drop any duplicates\n",
    "print(f\"Before: {df_all.shape}\")\n",
    "df_all.drop_duplicates(subset='combo_post',inplace=True)\n",
    "print(f\"After:  {df_all.shape}\")"
   ]
  },
  {
   "cell_type": "code",
   "execution_count": 32,
   "metadata": {},
   "outputs": [
    {
     "data": {
      "text/plain": [
       "DnD           0.502115\n",
       "CallOfDuty    0.497885\n",
       "Name: subreddit, dtype: float64"
      ]
     },
     "execution_count": 32,
     "metadata": {},
     "output_type": "execute_result"
    }
   ],
   "source": [
    "# Check to see if the classes are still balanced -- they are still about 50-50\n",
    "df_all['subreddit'].value_counts(normalize=True)"
   ]
  },
  {
   "cell_type": "markdown",
   "metadata": {},
   "source": [
    "### Explore number of comments"
   ]
  },
  {
   "cell_type": "code",
   "execution_count": 33,
   "metadata": {},
   "outputs": [
    {
     "data": {
      "image/png": "[encoded data removed]",
      "text/plain": [
       "<Figure size 432x288 with 1 Axes>"
      ]
     },
     "metadata": {
      "needs_background": "light"
     },
     "output_type": "display_data"
    }
   ],
   "source": [
    "# Explore the number of comments\n",
    "sns.boxplot(x='subreddit', y='num_comments', data=df_all);\n",
    "plt.title(\"Comparison of comments -- a few subreddits have TONS of comments!\");\n",
    "# Interesting but not a concern; I've opted not to include comments in my analysis."
   ]
  },
  {
   "cell_type": "code",
   "execution_count": 34,
   "metadata": {},
   "outputs": [
    {
     "data": {
      "text/html": [
       "<div>\n",
       "<style scoped>\n",
       "    .dataframe tbody tr th:only-of-type {\n",
       "        vertical-align: middle;\n",
       "    }\n",
       "\n",
       "    .dataframe tbody tr th {\n",
       "        vertical-align: top;\n",
       "    }\n",
       "\n",
       "    .dataframe thead th {\n",
       "        text-align: right;\n",
       "    }\n",
       "</style>\n",
       "<table border=\"1\" class=\"dataframe\">\n",
       "  <thead>\n",
       "    <tr style=\"text-align: right;\">\n",
       "      <th></th>\n",
       "      <th>min</th>\n",
       "      <th>max</th>\n",
       "      <th>mean</th>\n",
       "    </tr>\n",
       "    <tr>\n",
       "      <th>subreddit</th>\n",
       "      <th></th>\n",
       "      <th></th>\n",
       "      <th></th>\n",
       "    </tr>\n",
       "  </thead>\n",
       "  <tbody>\n",
       "    <tr>\n",
       "      <th>CallOfDuty</th>\n",
       "      <td>0</td>\n",
       "      <td>574</td>\n",
       "      <td>2.661174</td>\n",
       "    </tr>\n",
       "    <tr>\n",
       "      <th>DnD</th>\n",
       "      <td>0</td>\n",
       "      <td>716</td>\n",
       "      <td>7.792698</td>\n",
       "    </tr>\n",
       "  </tbody>\n",
       "</table>\n",
       "</div>"
      ],
      "text/plain": [
       "            min  max      mean\n",
       "subreddit                     \n",
       "CallOfDuty    0  574  2.661174\n",
       "DnD           0  716  7.792698"
      ]
     },
     "execution_count": 34,
     "metadata": {},
     "output_type": "execute_result"
    }
   ],
   "source": [
    "# Compare some stats on the number of comments\n",
    "df_all.groupby('subreddit')['num_comments'].agg(['min','max','mean'])"
   ]
  },
  {
   "cell_type": "code",
   "execution_count": 35,
   "metadata": {
    "scrolled": true
   },
   "outputs": [
    {
     "name": "stdout",
     "output_type": "stream",
     "text": [
      "There are 5441 unique authors\n",
      "      and 2 authors who post in both subreddits.\n"
     ]
    }
   ],
   "source": [
    "# Explore authors -- are they posting in both subreddits?\n",
    "\n",
    "posts_in_both = []\n",
    "\n",
    "subr1_authors = list(df_all.loc[df_all['subreddit']==subreddit_1,'author'].unique())\n",
    "subr2_authors = list(df_all.loc[df_all['subreddit']==subreddit_2,'author'].unique())\n",
    "\n",
    "for auth in subr1_authors:\n",
    "    if auth in subr2_authors:\n",
    "        posts_in_both.append(auth)\n",
    "        \n",
    "print(f\"There are {df_all['author'].nunique()} unique authors\")\n",
    "print(f\"      and {len(posts_in_both)} authors who post in both subreddits.\")"
   ]
  },
  {
   "cell_type": "code",
   "execution_count": 36,
   "metadata": {},
   "outputs": [],
   "source": [
    "# Count the posts for each author in each thread\n",
    "post_count_1 = [df_all[df_all['author']==x].count() for x in df_all.loc[df_all['subreddit']==subreddit_1,\n",
    "                                                                        'author'].unique()]\n",
    "posts_in_sub_1 = df_all.loc[df_all['subreddit']==subreddit_1,'author'].count()\n",
    "\n",
    "post_count_2 = [df_all[df_all['author']==x].count() for x in df_all.loc[df_all['subreddit']==subreddit_2,\n",
    "                                                                        'author'].unique()]\n",
    "posts_in_sub_2 = df_all.loc[df_all['subreddit']==subreddit_2,'author'].count()"
   ]
  },
  {
   "cell_type": "code",
   "execution_count": 37,
   "metadata": {},
   "outputs": [
    {
     "data": {
      "image/png": "[encoded data removed]",
      "text/plain": [
       "<Figure size 432x360 with 1 Axes>"
      ]
     },
     "metadata": {
      "needs_background": "light"
     },
     "output_type": "display_data"
    }
   ],
   "source": [
    "# Explore the number of posts per author, for authors who post more than once\n",
    "fig = plt.figure(figsize=(6,5))\n",
    "nbins = 80\n",
    "sns.distplot(post_count_1,bins=nbins,\n",
    "             label=subreddit_1,kde=False)\n",
    "sns.distplot(post_count_2,bins=nbins,\n",
    "             label=subreddit_2,kde=False)\n",
    "plt.title('Distribution of number of posts per author',fontsize=14)\n",
    "plt.legend();\n",
    "#plt.xlim(0,60)\n",
    "plt.ylim(0,100)\n",
    "plt.ylabel('Number of authors',fontsize=14)\n",
    "plt.xlabel('Number of posts',fontsize=14);"
   ]
  },
  {
   "cell_type": "code",
   "execution_count": 38,
   "metadata": {},
   "outputs": [
    {
     "data": {
      "text/plain": [
       "subreddit\n",
       "CallOfDuty    2632\n",
       "DnD           2811\n",
       "Name: author, dtype: int64"
      ]
     },
     "execution_count": 38,
     "metadata": {},
     "output_type": "execute_result"
    }
   ],
   "source": [
    "# Do both groups have a similar number of unique authors? (Yes)\n",
    "df_all.groupby('subreddit')['author'].nunique()  "
   ]
  },
  {
   "cell_type": "code",
   "execution_count": 39,
   "metadata": {},
   "outputs": [
    {
     "name": "stdout",
     "output_type": "stream",
     "text": [
      "CallOfDuty has 2632 authors, 3884 posts, and 1.48 posts per author on average.\n",
      "DnD has 2811 authors, 3917 posts, and 1.39 posts per author on average.\n"
     ]
    }
   ],
   "source": [
    "# Average number of posts per author\n",
    "print(f\"{subreddit_1} has {len(subr1_authors)} authors, {posts_in_sub_1} posts, and {posts_in_sub_1/len(post_count_1):.2f} posts per author on average.\")\n",
    "print(f\"{subreddit_2} has {len(subr2_authors)} authors, {posts_in_sub_2} posts, and {posts_in_sub_2/len(post_count_2):.2f} posts per author on average.\")"
   ]
  },
  {
   "cell_type": "markdown",
   "metadata": {},
   "source": [
    "### Finalize the combined dataframe for the classification"
   ]
  },
  {
   "cell_type": "code",
   "execution_count": 40,
   "metadata": {},
   "outputs": [],
   "source": [
    "# key columns: subreddit, 'selftext' (main text), 'title'; also num_comments in case that is helpful to a model"
   ]
  },
  {
   "cell_type": "code",
   "execution_count": 41,
   "metadata": {},
   "outputs": [],
   "source": [
    "# Check dates\n",
    "cdates = df_all.groupby('subreddit')['created_utc'].agg(['min','max'])"
   ]
  },
  {
   "cell_type": "code",
   "execution_count": 42,
   "metadata": {},
   "outputs": [
    {
     "name": "stdout",
     "output_type": "stream",
     "text": [
      "Call of Duty posts are from 2020-05-12 00:40:33 through 2020-05-28 12:19:22\n"
     ]
    }
   ],
   "source": [
    "print(\"Call of Duty posts are from {} through {}\".format(\\\n",
    "    time.strftime('%Y-%m-%d %H:%M:%S', time.localtime(cdates.loc['CallOfDuty','min'])),\n",
    "    time.strftime('%Y-%m-%d %H:%M:%S', time.localtime(cdates.loc['CallOfDuty','max']))))"
   ]
  },
  {
   "cell_type": "code",
   "execution_count": 43,
   "metadata": {},
   "outputs": [
    {
     "name": "stdout",
     "output_type": "stream",
     "text": [
      "DnD posts are from 2020-05-20 07:47:46 through 2020-05-28 12:19:23\n"
     ]
    }
   ],
   "source": [
    "print(\"DnD posts are from {} through {}\".format(\\\n",
    "    time.strftime('%Y-%m-%d %H:%M:%S', time.localtime(cdates.loc['DnD','min'])),\n",
    "    time.strftime('%Y-%m-%d %H:%M:%S', time.localtime(cdates.loc['DnD','max']))))"
   ]
  },
  {
   "cell_type": "code",
   "execution_count": 44,
   "metadata": {},
   "outputs": [],
   "source": [
    "# DECISION: columns to keep (which can be revisited)\n",
    "keep_columns=['subreddit','author','num_comments','combo_post']"
   ]
  },
  {
   "cell_type": "code",
   "execution_count": 45,
   "metadata": {},
   "outputs": [],
   "source": [
    "# Now drop everything else\n",
    "df_all = df_all.loc[:,keep_columns]"
   ]
  },
  {
   "cell_type": "code",
   "execution_count": 46,
   "metadata": {},
   "outputs": [
    {
     "data": {
      "text/plain": [
       "subreddit       0\n",
       "author          0\n",
       "num_comments    0\n",
       "combo_post      0\n",
       "dtype: int64"
      ]
     },
     "execution_count": 46,
     "metadata": {},
     "output_type": "execute_result"
    }
   ],
   "source": [
    "# Recheck missing data\n",
    "df_all.isnull().sum()"
   ]
  },
  {
   "cell_type": "code",
   "execution_count": 47,
   "metadata": {},
   "outputs": [],
   "source": [
    "# Find the larger group programmatically\n",
    "vc = df_all['subreddit'].value_counts()\n",
    "vc\n",
    "if vc[0] > vc[1]:\n",
    "    make_group_1 = vc.index[0]\n",
    "    make_group_0 = vc.index[1]\n",
    "else:\n",
    "    make_group_1 = vc.index[1]\n",
    "    make_group_0 = vc.index[0]"
   ]
  },
  {
   "cell_type": "code",
   "execution_count": 48,
   "metadata": {},
   "outputs": [
    {
     "name": "stdout",
     "output_type": "stream",
     "text": [
      "Binarized subreddit is in b_subreddit, with DnD:1 CallOfDuty:0\n"
     ]
    }
   ],
   "source": [
    "# Binarize the target values - larger class gets '1'\n",
    "df_all['b_subreddit'] = df_all['subreddit'].map({make_group_1:1,make_group_0:0})\n",
    "print(f\"Binarized subreddit is in b_subreddit, with {make_group_1}:1 {make_group_0}:0\")"
   ]
  },
  {
   "cell_type": "code",
   "execution_count": 49,
   "metadata": {},
   "outputs": [
    {
     "data": {
      "text/plain": [
       "DnD           0.502115\n",
       "CallOfDuty    0.497885\n",
       "Name: subreddit, dtype: float64"
      ]
     },
     "execution_count": 49,
     "metadata": {},
     "output_type": "execute_result"
    }
   ],
   "source": [
    "# Visual check of the class balance\n",
    "df_all['subreddit'].value_counts(normalize=True)"
   ]
  },
  {
   "cell_type": "code",
   "execution_count": 50,
   "metadata": {},
   "outputs": [
    {
     "data": {
      "text/plain": [
       "(7801, 5)"
      ]
     },
     "execution_count": 50,
     "metadata": {},
     "output_type": "execute_result"
    }
   ],
   "source": [
    "# Final check of total posts\n",
    "df_all.shape"
   ]
  },
  {
   "cell_type": "markdown",
   "metadata": {},
   "source": [
    "## Save to File"
   ]
  },
  {
   "cell_type": "code",
   "execution_count": 51,
   "metadata": {},
   "outputs": [
    {
     "data": {
      "text/plain": [
       "'../posts/callofduty_dnd_final.csv'"
      ]
     },
     "execution_count": 51,
     "metadata": {},
     "output_type": "execute_result"
    }
   ],
   "source": [
    "fname = \"../posts/\" + subreddit_1.lower() + '_' + subreddit_2.lower() + '_final.csv'\n",
    "fname"
   ]
  },
  {
   "cell_type": "code",
   "execution_count": 52,
   "metadata": {},
   "outputs": [],
   "source": [
    "df_all.to_csv(fname,index=False)"
   ]
  }
 ],
 "metadata": {
  "kernelspec": {
   "display_name": "Python 3",
   "language": "python",
   "name": "python3"
  },
  "language_info": {
   "codemirror_mode": {
    "name": "ipython",
    "version": 3
   },
   "file_extension": ".py",
   "mimetype": "text/x-python",
   "name": "python",
   "nbconvert_exporter": "python",
   "pygments_lexer": "ipython3",
   "version": "3.7.7"
  }
 },
 "nbformat": 4,
 "nbformat_minor": 4
}
