{
 "cells": [
  {
   "cell_type": "markdown",
   "metadata": {},
   "source": [
    "# 03_Classification_Models\n",
    "\n",
    "Purpose of this notebook:\n",
    " - Read in the reddit posts\n",
    " - Build classifiers (models)\n",
    " - Evaluate models\n",
    "    \n",
    " - Iterate!"
   ]
  },
  {
   "cell_type": "markdown",
   "metadata": {},
   "source": [
    "# Imports and global notebook settings"
   ]
  },
  {
   "cell_type": "code",
   "execution_count": 1,
   "metadata": {},
   "outputs": [],
   "source": [
    "# imports\n",
    "import numpy as np\n",
    "import pandas as pd\n",
    "import re\n",
    "\n",
    "from sklearn.model_selection import train_test_split, GridSearchCV\n",
    "from sklearn.pipeline import Pipeline\n",
    "from sklearn.linear_model import LogisticRegression\n",
    "from sklearn.naive_bayes import MultinomialNB\n",
    "from sklearn.svm import SVC\n",
    "\n",
    "from sklearn.feature_extraction.text import CountVectorizer, TfidfVectorizer\n",
    "\n",
    "from nltk.corpus import stopwords\n",
    "\n",
    "import matplotlib.pyplot as plt\n",
    "import seaborn as sns\n",
    "\n",
    "import missingno as msno\n",
    "from sklearn.metrics import confusion_matrix, plot_confusion_matrix\n",
    "from sklearn.metrics import roc_curve, accuracy_score\n",
    "\n",
    "from sklearn.exceptions import ConvergenceWarning\n",
    "from warnings import simplefilter\n",
    "import time"
   ]
  },
  {
   "cell_type": "code",
   "execution_count": 2,
   "metadata": {},
   "outputs": [],
   "source": [
    "# Global options to increase rows and columns displayed\n",
    "pd.set_option('display.max_columns', None)\n",
    "# pd.reset_option(“max_columns”) # to reset back to limited columns\n",
    "pd.set_option(\"max_rows\", None)"
   ]
  },
  {
   "cell_type": "markdown",
   "metadata": {},
   "source": [
    "## Read in data files"
   ]
  },
  {
   "cell_type": "code",
   "execution_count": 3,
   "metadata": {},
   "outputs": [
    {
     "name": "stdout",
     "output_type": "stream",
     "text": [
      "CallOfDuty_4000_2020-05-28_192353.csv callofduty_dnd_final.csv\r\n",
      "DnD_4000_2020-05-28_192119.csv\r\n"
     ]
    }
   ],
   "source": [
    "!ls ../posts"
   ]
  },
  {
   "cell_type": "code",
   "execution_count": 4,
   "metadata": {},
   "outputs": [],
   "source": [
    "# Read in file of posts\n",
    "fname = '../posts/callofduty_dnd_final.csv'"
   ]
  },
  {
   "cell_type": "code",
   "execution_count": 5,
   "metadata": {},
   "outputs": [
    {
     "data": {
      "text/html": [
       "<div>\n",
       "<style scoped>\n",
       "    .dataframe tbody tr th:only-of-type {\n",
       "        vertical-align: middle;\n",
       "    }\n",
       "\n",
       "    .dataframe tbody tr th {\n",
       "        vertical-align: top;\n",
       "    }\n",
       "\n",
       "    .dataframe thead th {\n",
       "        text-align: right;\n",
       "    }\n",
       "</style>\n",
       "<table border=\"1\" class=\"dataframe\">\n",
       "  <thead>\n",
       "    <tr style=\"text-align: right;\">\n",
       "      <th></th>\n",
       "      <th>subreddit</th>\n",
       "      <th>author</th>\n",
       "      <th>num_comments</th>\n",
       "      <th>combo_post</th>\n",
       "      <th>b_subreddit</th>\n",
       "    </tr>\n",
       "  </thead>\n",
       "  <tbody>\n",
       "    <tr>\n",
       "      <th>0</th>\n",
       "      <td>CallOfDuty</td>\n",
       "      <td>ant_thomas93</td>\n",
       "      <td>0</td>\n",
       "      <td>[BO2] got a question I tried MW2 for ages earl...</td>\n",
       "      <td>0</td>\n",
       "    </tr>\n",
       "    <tr>\n",
       "      <th>1</th>\n",
       "      <td>CallOfDuty</td>\n",
       "      <td>cameronlund08</td>\n",
       "      <td>0</td>\n",
       "      <td>[COD] Most Populated COD’s? (XB1, MP) [removed]</td>\n",
       "      <td>0</td>\n",
       "    </tr>\n",
       "    <tr>\n",
       "      <th>2</th>\n",
       "      <td>CallOfDuty</td>\n",
       "      <td>aquang28</td>\n",
       "      <td>0</td>\n",
       "      <td>Death to the MPLA nan</td>\n",
       "      <td>0</td>\n",
       "    </tr>\n",
       "  </tbody>\n",
       "</table>\n",
       "</div>"
      ],
      "text/plain": [
       "    subreddit         author  num_comments  \\\n",
       "0  CallOfDuty   ant_thomas93             0   \n",
       "1  CallOfDuty  cameronlund08             0   \n",
       "2  CallOfDuty       aquang28             0   \n",
       "\n",
       "                                          combo_post  b_subreddit  \n",
       "0  [BO2] got a question I tried MW2 for ages earl...            0  \n",
       "1    [COD] Most Populated COD’s? (XB1, MP) [removed]            0  \n",
       "2                              Death to the MPLA nan            0  "
      ]
     },
     "execution_count": 5,
     "metadata": {},
     "output_type": "execute_result"
    }
   ],
   "source": [
    "# Create data frame\n",
    "df_posts = pd.read_csv(fname)\n",
    "df_posts.head(3)"
   ]
  },
  {
   "cell_type": "code",
   "execution_count": 6,
   "metadata": {},
   "outputs": [
    {
     "data": {
      "text/html": [
       "<div>\n",
       "<style scoped>\n",
       "    .dataframe tbody tr th:only-of-type {\n",
       "        vertical-align: middle;\n",
       "    }\n",
       "\n",
       "    .dataframe tbody tr th {\n",
       "        vertical-align: top;\n",
       "    }\n",
       "\n",
       "    .dataframe thead th {\n",
       "        text-align: right;\n",
       "    }\n",
       "</style>\n",
       "<table border=\"1\" class=\"dataframe\">\n",
       "  <thead>\n",
       "    <tr style=\"text-align: right;\">\n",
       "      <th></th>\n",
       "      <th>subreddit</th>\n",
       "      <th>author</th>\n",
       "      <th>num_comments</th>\n",
       "      <th>combo_post</th>\n",
       "      <th>b_subreddit</th>\n",
       "    </tr>\n",
       "  </thead>\n",
       "  <tbody>\n",
       "    <tr>\n",
       "      <th>7798</th>\n",
       "      <td>DnD</td>\n",
       "      <td>czubizzle</td>\n",
       "      <td>2</td>\n",
       "      <td>Music to help lighten up a TPK nan</td>\n",
       "      <td>1</td>\n",
       "    </tr>\n",
       "    <tr>\n",
       "      <th>7799</th>\n",
       "      <td>DnD</td>\n",
       "      <td>HasnainAshfaq12</td>\n",
       "      <td>0</td>\n",
       "      <td>Sugar ka Ilaj Diabetes Ka Khatma | Control Dia...</td>\n",
       "      <td>1</td>\n",
       "    </tr>\n",
       "    <tr>\n",
       "      <th>7800</th>\n",
       "      <td>DnD</td>\n",
       "      <td>Nickywynne</td>\n",
       "      <td>1</td>\n",
       "      <td>Crazy/Wacky/MinMax Warlock Builds So I love th...</td>\n",
       "      <td>1</td>\n",
       "    </tr>\n",
       "  </tbody>\n",
       "</table>\n",
       "</div>"
      ],
      "text/plain": [
       "     subreddit           author  num_comments  \\\n",
       "7798       DnD        czubizzle             2   \n",
       "7799       DnD  HasnainAshfaq12             0   \n",
       "7800       DnD       Nickywynne             1   \n",
       "\n",
       "                                             combo_post  b_subreddit  \n",
       "7798                 Music to help lighten up a TPK nan            1  \n",
       "7799  Sugar ka Ilaj Diabetes Ka Khatma | Control Dia...            1  \n",
       "7800  Crazy/Wacky/MinMax Warlock Builds So I love th...            1  "
      ]
     },
     "execution_count": 6,
     "metadata": {},
     "output_type": "execute_result"
    }
   ],
   "source": [
    "df_posts.tail(3)"
   ]
  },
  {
   "cell_type": "markdown",
   "metadata": {},
   "source": [
    "## General Setup"
   ]
  },
  {
   "cell_type": "code",
   "execution_count": 7,
   "metadata": {},
   "outputs": [
    {
     "name": "stdout",
     "output_type": "stream",
     "text": [
      "Subreddit data : (7801, 5)\n"
     ]
    },
    {
     "data": {
      "text/plain": [
       "DnD           0.502115\n",
       "CallOfDuty    0.497885\n",
       "Name: subreddit, dtype: float64"
      ]
     },
     "execution_count": 7,
     "metadata": {},
     "output_type": "execute_result"
    }
   ],
   "source": [
    "# Check amount of data and class balance\n",
    "print(f\"Subreddit data : {df_posts.shape}\")\n",
    "df_posts['subreddit'].value_counts(normalize=True) "
   ]
  },
  {
   "cell_type": "code",
   "execution_count": 8,
   "metadata": {},
   "outputs": [
    {
     "name": "stdout",
     "output_type": "stream",
     "text": [
      "1 means DnD\n",
      "0 means CallOfDuty\n",
      "{'DnD': 1, 1: 'DnD', 'CallOfDuty': 0, 0: 'CallOfDuty'}\n"
     ]
    }
   ],
   "source": [
    "# Programmatically get the subreddit names -- this generalizes the process\n",
    "double_dictionary = dict()\n",
    "\n",
    "codes = df_posts['b_subreddit'].value_counts().index\n",
    "for code in codes:\n",
    "    sr_name = list(df_posts[df_posts['b_subreddit']==code]['subreddit'].value_counts().index)[0]\n",
    "    print(f\"{code} means {sr_name}\")\n",
    "    double_dictionary[sr_name] = code\n",
    "    double_dictionary[code] = sr_name\n",
    "print(double_dictionary) # this allows me to look up either subreddit by name or value"
   ]
  },
  {
   "cell_type": "code",
   "execution_count": 9,
   "metadata": {},
   "outputs": [
    {
     "name": "stdout",
     "output_type": "stream",
     "text": [
      "Baseline model can predict correctly 50.21% of the time.\n"
     ]
    }
   ],
   "source": [
    "# Baseline model is the % of the majority class; calculate and print\n",
    "baseline_model = df_posts['subreddit'].value_counts(normalize=True).max()\n",
    "print(f\"Baseline model can predict correctly {100*baseline_model:.2f}% of the time.\")"
   ]
  },
  {
   "cell_type": "markdown",
   "metadata": {},
   "source": [
    "## Text pre-processing"
   ]
  },
  {
   "cell_type": "code",
   "execution_count": 10,
   "metadata": {},
   "outputs": [],
   "source": [
    "# Pieces of html links were not being removed by the vectorizers; remove them with regex\n",
    "df_posts['cleaned_post'] = df_posts['combo_post'].apply(lambda x: re.sub('http[s]?://\\S+', '', x)) # url\n",
    "df_posts['cleaned_post'] = df_posts['cleaned_post'].apply(lambda x: re.sub('\\\\n','', x))           # \\n newlines"
   ]
  },
  {
   "cell_type": "code",
   "execution_count": 11,
   "metadata": {},
   "outputs": [
    {
     "data": {
      "text/plain": [
       "['mw2', 'mw3', 'aw', 'ps3', 'dnd', '5e', 'one', 'would', 'removed']"
      ]
     },
     "execution_count": 11,
     "metadata": {},
     "output_type": "execute_result"
    }
   ],
   "source": [
    "# Add more terms to stopwords to remove give-away terms and see what else is important\n",
    "stoppers = stopwords.words('english')\n",
    "\n",
    "exclude_also = ['nan',\n",
    "               'amp','x200b',       # pieces of url or formatting\n",
    "               'cod','bo','bo1','bo2','bo3',        # game tags\n",
    "                # All models at 93% before removing additional terms\n",
    "               'xbox','duty','call',   # get to the next level\n",
    "               'modern','warfare',     # edition of CoD\n",
    "               'mw','m2','mw2','mw3','aw','ps3',\n",
    "               'dnd','5e',\n",
    "               'one','would','removed'\n",
    "               ]\n",
    "stoppers = stoppers + exclude_also\n",
    "stoppers[-9:]"
   ]
  },
  {
   "cell_type": "markdown",
   "metadata": {},
   "source": [
    "# Models"
   ]
  },
  {
   "cell_type": "markdown",
   "metadata": {},
   "source": [
    "## 0. Common setup for all models"
   ]
  },
  {
   "cell_type": "code",
   "execution_count": 12,
   "metadata": {},
   "outputs": [],
   "source": [
    "# Models require a binary target\n",
    "y = df_posts['b_subreddit']"
   ]
  },
  {
   "cell_type": "code",
   "execution_count": 13,
   "metadata": {},
   "outputs": [],
   "source": [
    "# Text columns to be used in classification\n",
    "X = df_posts['cleaned_post']"
   ]
  },
  {
   "cell_type": "code",
   "execution_count": 14,
   "metadata": {},
   "outputs": [],
   "source": [
    "# Train test split\n",
    "X_train, X_test, y_train, y_test = train_test_split(X, y,\n",
    "                                                   stratify = y,\n",
    "                                                   random_state=42) \n",
    "\n",
    "# random_state is set for repeatability in development and deployment"
   ]
  },
  {
   "cell_type": "markdown",
   "metadata": {},
   "source": [
    "## 1. Classification Models\n",
    " - CountVectorizer + LogisticRegression\n",
    " - CountVectorizer + MultinomialNB       (NaiveBayes)\n",
    " - TfidfVectorizer + LogisticRegression"
   ]
  },
  {
   "cell_type": "markdown",
   "metadata": {},
   "source": [
    "### 1. a) Set up pipes and hyperparameter grid searches"
   ]
  },
  {
   "cell_type": "code",
   "execution_count": 15,
   "metadata": {},
   "outputs": [],
   "source": [
    "# Run once before model refinements, then comment out to avoid erasing the models to date\n",
    "model_params = {}\n",
    "count = 0\n",
    "# Credit to Patrick Wales-Dinan for this tip -- and the code that follows to populate it"
   ]
  },
  {
   "cell_type": "code",
   "execution_count": 16,
   "metadata": {},
   "outputs": [],
   "source": [
    "# Set up the pipes - note that each set of pipe_params was optimized individually\n",
    "\n",
    "max_iterations = 1000  # to resolve ConvergenceWarnings\n",
    "\n",
    "########### cv + logreg\n",
    "pipe_TFIDF_SVC = Pipeline([\n",
    "    ('tfidf', TfidfVectorizer()),   \n",
    "    ('svc'  , SVC(max_iter=max_iterations))\n",
    "])\n",
    "pipe_params_TFIDF_SVC = {\n",
    "    'tfidf__max_features': [800,1200,1400],           \n",
    "    'tfidf__stop_words'  : [stoppers],     \n",
    "    'tfidf__ngram_range' : [(1,2),(1,3)],         \n",
    "    'svc__kernel'      : ['poly'],          \n",
    "    'svc__degree'      : [2],              \n",
    "    'svc__tol'         : [0.001],          # 0.001 is default and worked best\n",
    "    'svc__C'           : [1]               # C=1 also worked best \n",
    "}\n",
    "\n",
    "########### cv + logreg\n",
    "pipe_CountVec_LR = Pipeline([\n",
    "    ('cvec', CountVectorizer()),   \n",
    "    ('lr'  , LogisticRegression(solver='liblinear',max_iter=max_iterations))\n",
    "])\n",
    "\n",
    "pipe_params_CountVec_LR = {\n",
    "    'cvec__max_features':[800,1200,1400],       \n",
    "    'cvec__stop_words' : [stoppers],             \n",
    "    'cvec__ngram_range': [(1,3)],                \n",
    "    'cvec__min_df'     : [20],                   \n",
    "    'cvec__max_df'     : [.9],                  \n",
    "    'lr__penalty'      : ['l1'],           # l1 (LASSO); ruled out 'l2'\n",
    "    'lr__C'            : [1]               # C=1 was better\n",
    "}\n",
    "\n",
    "########## cv + multinomialNB\n",
    "pipe_CountVec_MNB = Pipeline([\n",
    "    ('cvec', CountVectorizer()),   \n",
    "    ('mnb' , MultinomialNB())\n",
    "])\n",
    "\n",
    "pipe_params_CountVec_MNB = {\n",
    "    'cvec__max_features': [800,1200,1400], \n",
    "    'cvec__stop_words'  : [stoppers],      \n",
    "    'cvec__ngram_range' : [(1,2),(1,3)]    \n",
    "}\n",
    "\n",
    "########### tf + logreg\n",
    "pipe_TFIDF_LR = Pipeline([\n",
    "    ('tfidf', TfidfVectorizer()),\n",
    "    ('lr'   , LogisticRegression(solver='liblinear',max_iter=max_iterations))\n",
    "])\n",
    "\n",
    "pipe_params_TFIDF_LR = {\n",
    "    'tfidf__max_features': [800,1200,1400],      \n",
    "    'tfidf__stop_words'  : [stoppers],           \n",
    "    'tfidf__ngram_range' : [(1,3),(1,4),(1,5)],  \n",
    "    'lr__penalty'        : ['l1'],               \n",
    "    'lr__C'              : [1,10]                 \n",
    "}"
   ]
  },
  {
   "cell_type": "code",
   "execution_count": 17,
   "metadata": {},
   "outputs": [],
   "source": [
    "# Set up the grid searches\n",
    "gs_tfsv = GridSearchCV(pipe_TFIDF_SVC,\n",
    "                    pipe_params_TFIDF_SVC,\n",
    "                    #n_jobs=-1,   # Causes UserWarning\n",
    "                    #verbose=10,  # get status messages\n",
    "                    cv=5)\n",
    "gs_cvlr = GridSearchCV(pipe_CountVec_LR,\n",
    "                    pipe_params_CountVec_LR,\n",
    "                    #n_jobs=-1,   # Causes UserWarning\n",
    "                    #verbose=100, # get status messages\n",
    "                    cv=5)\n",
    "gs_cvnb = GridSearchCV(pipe_CountVec_MNB,\n",
    "                    pipe_params_CountVec_MNB,\n",
    "                    #n_jobs=-1,   # Causes UserWarning\n",
    "                    cv=5)\n",
    "gs_tflr = GridSearchCV(pipe_TFIDF_LR,\n",
    "                    pipe_params_TFIDF_LR,\n",
    "                    #n_jobs=-1,  # Causes UserWarning\n",
    "                    #verbose=1,  # get status messages   \n",
    "                    cv=5)"
   ]
  },
  {
   "cell_type": "markdown",
   "metadata": {},
   "source": [
    "### 1. b) Run searches and pipes"
   ]
  },
  {
   "cell_type": "code",
   "execution_count": 18,
   "metadata": {},
   "outputs": [],
   "source": [
    "# Optionally turn off warnings once the models are producing good results\n",
    "#   non convergence may mean the result is not perfect, but it might be good enough\n",
    "simplefilter(\"ignore\", category=ConvergenceWarning)"
   ]
  },
  {
   "cell_type": "code",
   "execution_count": 19,
   "metadata": {},
   "outputs": [
    {
     "name": "stdout",
     "output_type": "stream",
     "text": [
      "This took 40.16 seconds to run\n",
      "0.9092307692307692\n"
     ]
    }
   ],
   "source": [
    "# Fit gridsearch to the training data\n",
    "t0 = time.time()\n",
    "gs_tfsv_output = gs_tfsv.fit(X_train, y_train)\n",
    "# n_jobs causes \n",
    "# UserWarning: A worker stopped while some jobs were given to the executor.\n",
    "print(f\"This took {time.time() - t0:.02f} seconds to run\")\n",
    "\n",
    "print(gs_tfsv.best_score_)\n",
    "\n",
    "# Add results to the model list\n",
    "count += 1\n",
    "gs_tfsv.best_params_['score'] = gs_tfsv.best_score_         \n",
    "model_params[f'model_{count}_tfsv'] = gs_tfsv.best_params_ \n",
    "\n",
    "# Optionally look at the output from the fit (uncomment to view)\n",
    "# gs_cvlr_output"
   ]
  },
  {
   "cell_type": "code",
   "execution_count": 20,
   "metadata": {},
   "outputs": [
    {
     "name": "stdout",
     "output_type": "stream",
     "text": [
      "This took 14.46 seconds to run\n",
      "0.9143589743589743\n"
     ]
    }
   ],
   "source": [
    "# Fit gridsearch to the training data\n",
    "t0 = time.time()\n",
    "gs_cvlr_output = gs_cvlr.fit(X_train, y_train)\n",
    "# n_jobs causes \n",
    "# UserWarning: A worker stopped while some jobs were given to the executor.\n",
    "print(f\"This took {time.time() - t0:.02f} seconds to run\")\n",
    "\n",
    "print(gs_cvlr.best_score_)\n",
    "\n",
    "# Add results to the model list\n",
    "count += 1\n",
    "gs_cvlr.best_params_['score'] = gs_cvlr.best_score_         \n",
    "model_params[f'model_{count}_cvlr'] = gs_cvlr.best_params_ \n",
    "\n",
    "# Optionally look at the output from the fit (uncomment to view)\n",
    "# gs_cvlr_output"
   ]
  },
  {
   "cell_type": "code",
   "execution_count": 21,
   "metadata": {},
   "outputs": [],
   "source": [
    "# Uncomment to view - best options summarized above during optimization / iteration phase\n",
    "# gs_cvlr.best_params_"
   ]
  },
  {
   "cell_type": "code",
   "execution_count": 22,
   "metadata": {},
   "outputs": [
    {
     "name": "stdout",
     "output_type": "stream",
     "text": [
      "This took 22.39 seconds to run\n",
      "0.8598290598290598\n"
     ]
    }
   ],
   "source": [
    "# Fit gridsearch to the training data\n",
    "t0 = time.time()\n",
    "gs_cvnb_output = gs_cvnb.fit(X_train, y_train)\n",
    "print(f\"This took {time.time() - t0:.02f} seconds to run\")\n",
    "\n",
    "print(gs_cvnb.best_score_)\n",
    "\n",
    "# Add results to the model list\n",
    "count += 1\n",
    "gs_cvnb.best_params_['score'] = gs_cvnb.best_score_         \n",
    "model_params[f'model_{count}_cvnb'] = gs_cvnb.best_params_ \n",
    "\n",
    "# Optionally look at the output from the fit (uncomment to view)\n",
    "# gs_cvnb_output"
   ]
  },
  {
   "cell_type": "code",
   "execution_count": 23,
   "metadata": {},
   "outputs": [],
   "source": [
    "# Uncomment to view - best options summarized above during optimization / iteration phase\n",
    "# gs_cvnb.best_params_"
   ]
  },
  {
   "cell_type": "code",
   "execution_count": 24,
   "metadata": {},
   "outputs": [
    {
     "name": "stdout",
     "output_type": "stream",
     "text": [
      "This took 130.68 seconds to run\n",
      "0.914017094017094\n"
     ]
    }
   ],
   "source": [
    "t0 = time.time()\n",
    "gs_tflr_output = gs_tflr.fit(X_train, y_train)\n",
    "print(f\"This took {time.time() - t0:.02f} seconds to run\")\n",
    "\n",
    "print(gs_tflr.best_score_)\n",
    "\n",
    "# Add results to the model list\n",
    "count += 1\n",
    "gs_tflr.best_params_['score'] = gs_tflr.best_score_         \n",
    "model_params[f'model_{count}_tflr'] = gs_tflr.best_params_ "
   ]
  },
  {
   "cell_type": "code",
   "execution_count": 25,
   "metadata": {},
   "outputs": [],
   "source": [
    "# Uncomment to view - best options summarized above during optimization / iteration phase\n",
    "# gs_tflr.best_params_"
   ]
  },
  {
   "cell_type": "markdown",
   "metadata": {},
   "source": [
    "### 1. c) Compare results"
   ]
  },
  {
   "cell_type": "code",
   "execution_count": 26,
   "metadata": {},
   "outputs": [
    {
     "data": {
      "text/html": [
       "<div>\n",
       "<style scoped>\n",
       "    .dataframe tbody tr th:only-of-type {\n",
       "        vertical-align: middle;\n",
       "    }\n",
       "\n",
       "    .dataframe tbody tr th {\n",
       "        vertical-align: top;\n",
       "    }\n",
       "\n",
       "    .dataframe thead th {\n",
       "        text-align: right;\n",
       "    }\n",
       "</style>\n",
       "<table border=\"1\" class=\"dataframe\">\n",
       "  <thead>\n",
       "    <tr style=\"text-align: right;\">\n",
       "      <th></th>\n",
       "      <th>cvec__max_features</th>\n",
       "      <th>tfidf__max_features</th>\n",
       "      <th>cvec__ngram_range</th>\n",
       "      <th>tfidf__ngram_range</th>\n",
       "      <th>lr__C</th>\n",
       "      <th>svc__C</th>\n",
       "      <th>score</th>\n",
       "    </tr>\n",
       "  </thead>\n",
       "  <tbody>\n",
       "    <tr>\n",
       "      <th>model_1_tfsv</th>\n",
       "      <td>NaN</td>\n",
       "      <td>1400.0</td>\n",
       "      <td>NaN</td>\n",
       "      <td>(1, 3)</td>\n",
       "      <td>NaN</td>\n",
       "      <td>1.0</td>\n",
       "      <td>0.909231</td>\n",
       "    </tr>\n",
       "    <tr>\n",
       "      <th>model_4_tflr</th>\n",
       "      <td>NaN</td>\n",
       "      <td>1400.0</td>\n",
       "      <td>NaN</td>\n",
       "      <td>(1, 3)</td>\n",
       "      <td>10.0</td>\n",
       "      <td>NaN</td>\n",
       "      <td>0.914017</td>\n",
       "    </tr>\n",
       "    <tr>\n",
       "      <th>model_2_cvlr</th>\n",
       "      <td>1400.0</td>\n",
       "      <td>NaN</td>\n",
       "      <td>(1, 3)</td>\n",
       "      <td>NaN</td>\n",
       "      <td>1.0</td>\n",
       "      <td>NaN</td>\n",
       "      <td>0.914359</td>\n",
       "    </tr>\n",
       "    <tr>\n",
       "      <th>model_3_cvnb</th>\n",
       "      <td>1400.0</td>\n",
       "      <td>NaN</td>\n",
       "      <td>(1, 2)</td>\n",
       "      <td>NaN</td>\n",
       "      <td>NaN</td>\n",
       "      <td>NaN</td>\n",
       "      <td>0.859829</td>\n",
       "    </tr>\n",
       "  </tbody>\n",
       "</table>\n",
       "</div>"
      ],
      "text/plain": [
       "              cvec__max_features  tfidf__max_features cvec__ngram_range  \\\n",
       "model_1_tfsv                 NaN               1400.0               NaN   \n",
       "model_4_tflr                 NaN               1400.0               NaN   \n",
       "model_2_cvlr              1400.0                  NaN            (1, 3)   \n",
       "model_3_cvnb              1400.0                  NaN            (1, 2)   \n",
       "\n",
       "             tfidf__ngram_range  lr__C  svc__C     score  \n",
       "model_1_tfsv             (1, 3)    NaN     1.0  0.909231  \n",
       "model_4_tflr             (1, 3)   10.0     NaN  0.914017  \n",
       "model_2_cvlr                NaN    1.0     NaN  0.914359  \n",
       "model_3_cvnb                NaN    NaN     NaN  0.859829  "
      ]
     },
     "execution_count": 26,
     "metadata": {},
     "output_type": "execute_result"
    }
   ],
   "source": [
    "# Put model stats in a DataFrame; review\n",
    "cols = ['cvec__max_features','tfidf__max_features','cvec__ngram_range','tfidf__ngram_range',\n",
    "        'lr__C','svc__C','score']\n",
    "model_df = pd.DataFrame.from_dict(model_params, orient='index')[cols]\n",
    "model_df"
   ]
  },
  {
   "cell_type": "code",
   "execution_count": 27,
   "metadata": {},
   "outputs": [
    {
     "name": "stdout",
     "output_type": "stream",
     "text": [
      "gs_tfsv best score: 0.9092307692307692\n",
      "gs_cvlr best score: 0.9143589743589743\n",
      "gs_cvnb best score: 0.8598290598290598\n",
      "gs_tflr best score: 0.914017094017094\n"
     ]
    }
   ],
   "source": [
    "# Get the best results of the searches   # This is the mean cross-validated score of the best_estimator\n",
    "print(f\"gs_tfsv best score: {gs_tfsv.best_score_}\")\n",
    "print(f\"gs_cvlr best score: {gs_cvlr.best_score_}\")\n",
    "print(f\"gs_cvnb best score: {gs_cvnb.best_score_}\")\n",
    "print(f\"gs_tflr best score: {gs_tflr.best_score_}\")"
   ]
  },
  {
   "cell_type": "code",
   "execution_count": 28,
   "metadata": {},
   "outputs": [],
   "source": [
    "# Get the best model from each search in order to score it on the test data\n",
    "best_tfsv_model = gs_tfsv.best_estimator_\n",
    "best_cvlr_model = gs_cvlr.best_estimator_\n",
    "best_cvnb_model = gs_cvnb.best_estimator_\n",
    "best_tflr_model = gs_tflr.best_estimator_"
   ]
  },
  {
   "cell_type": "code",
   "execution_count": 29,
   "metadata": {},
   "outputs": [],
   "source": [
    "# Get the predictions and explore bias - note that these are not cross-validation scores...may look different\n",
    "tfsv_train = best_tfsv_model.score(X_train, y_train)\n",
    "tfsv_test  = best_tfsv_model.score(X_test, y_test)\n",
    "tfsv_diff  = tfsv_train - tfsv_test\n",
    "\n",
    "cvlr_train = best_cvlr_model.score(X_train, y_train)\n",
    "cvlr_test  = best_cvlr_model.score(X_test, y_test)\n",
    "cvlr_diff  = cvlr_train - cvlr_test\n",
    "\n",
    "cvnb_train = best_cvnb_model.score(X_train, y_train)\n",
    "cvnb_test  = best_cvnb_model.score(X_test, y_test)\n",
    "cvnb_diff  = cvnb_train - cvnb_test\n",
    "\n",
    "tflr_train = best_tflr_model.score(X_train, y_train)\n",
    "tflr_test  = best_tflr_model.score(X_test, y_test)\n",
    "tflr_diff  = tflr_train - tflr_test"
   ]
  },
  {
   "cell_type": "code",
   "execution_count": 30,
   "metadata": {},
   "outputs": [
    {
     "name": "stdout",
     "output_type": "stream",
     "text": [
      "|Model|Vectorizer|Estimator|Train|Test|Difference|cv5|\n",
      "|---|---|---|---|---|---|---|\n",
      "|1|CountVectorizer|LogisticRegression|0.9535|0.9226|0.0309|0.9144|\n",
      "|2|TfidfVectorizer|LogisticRegression|0.9764|0.9165|0.0600|0.9140|\n",
      "|3|CountVectorizer|MultinomialNB|0.8740|0.8795|-0.0055|0.8598|\n",
      "|4|TfidfVectorizer|Support Vector Machine|0.9844|0.9118|0.0726|0.9092|\n"
     ]
    }
   ],
   "source": [
    "# Print a small table of comparisons ready for a markdown cell\n",
    "print(f\"|Model|Vectorizer|Estimator|Train|Test|Difference|cv5|\")\n",
    "print(f\"|---|---|---|---|---|---|---|\")\n",
    "print(f\"|1|CountVectorizer|LogisticRegression|{cvlr_train:.4f}|{cvlr_test:.4f}|{cvlr_diff:.4f}|{gs_cvlr.best_score_:.4f}|\")\n",
    "print(f\"|2|TfidfVectorizer|LogisticRegression|{tflr_train:.4f}|{tflr_test:.4f}|{tflr_diff:.4f}|{gs_tflr.best_score_:.4f}|\")\n",
    "print(f\"|3|CountVectorizer|MultinomialNB|{cvnb_train:.4f}|{cvnb_test:.4f}|{cvnb_diff:.4f}|{gs_cvnb.best_score_:.4f}|\")\n",
    "print(f\"|4|TfidfVectorizer|Support Vector Machine|{tfsv_train:.4f}|{tfsv_test:.4f}|{tfsv_diff:.4f}|{gs_tfsv.best_score_:.4f}|\")"
   ]
  },
  {
   "cell_type": "markdown",
   "metadata": {},
   "source": [
    "**Discussion**\n",
    "\n",
    " - All models have very similar results. \n",
    " - Predictions were slightly higher (93% accuracy) when none of the game keywords were removed.\n",
    " - The CountVectorizer + LogisticRegression is likely the most interpretable.\n",
    "\n",
    "|Model|Vectorizer|Estimator|Train|Test|Difference|cv5|\n",
    "|---|---|---|---|---|---|---|\n",
    "|1|CountVectorizer|LogisticRegression|0.9535|0.9231|0.0304|0.9144|\n",
    "|2|TfidfVectorizer|LogisticRegression|0.9764|0.9165|0.0600|0.9140|\n",
    "|3|CountVectorizer|MultinomialNB|0.8740|0.8795|-0.0055|0.8598|\n",
    "|4|TfidfVectorizer|Support Vector Machine|0.9844|0.9118|0.0726|0.9092|"
   ]
  },
  {
   "cell_type": "code",
   "execution_count": 31,
   "metadata": {},
   "outputs": [],
   "source": [
    "# functions to work with TN, FP, FN, TP\n",
    "def tfpn_to_metrics(model_name,TN,FP,FN,TP, verbose=False):\n",
    "    if (verbose):\n",
    "        print(f\"\\nSummary for {model_name} model:\")\n",
    "        print(f\"    TN, FP, FN, TP:   {TN} {FP} {FN} {TP}\")\n",
    "        \n",
    "    sensitivity = TP/(TP+FN)\n",
    "    specificity = TN/(TN+FP)\n",
    "    precision = TP/(TP+FP)\n",
    "    accuracy = (TP+TN)/(TP+FP+TN+FN)\n",
    "    one_minus_spec = 1-specificity\n",
    "\n",
    "    if (verbose):\n",
    "        print(f\"  sensitivity: {sensitivity:.4f}\")\n",
    "        print(f\"  specificity: {specificity:.4f}\")\n",
    "        print(f\"  precision:   {precision:.4f}\")\n",
    "        print(f\"  accuracy:    {accuracy:.4f}\")\n",
    "    print(f\"|{model_name}|{sensitivity:.4f}|{specificity:.4f}|{precision:.4f}|{accuracy:.4f}|\")\n",
    "    \n",
    "    return one_minus_spec, sensitivity\n",
    "\n",
    "def get_roc_points(model_name,estimator,X_test,y_true):\n",
    "    y_pred = estimator.predict(X_test)\n",
    "    TN, FP, FN, TP = confusion_matrix(y_true,y_pred).ravel()\n",
    "    \n",
    "    return tfpn_to_metrics(model_name, TN, FP, FN, TP)"
   ]
  },
  {
   "cell_type": "code",
   "execution_count": 32,
   "metadata": {},
   "outputs": [],
   "source": [
    "def generate_baseline_roc(total_posts,baseline_model):\n",
    "    TP = baseline_model*total_posts\n",
    "    FP = (1-baseline_model) * total_posts\n",
    "    FN = 0\n",
    "    TN = 0\n",
    "    \n",
    "    return tfpn_to_metrics(\"Baseline model\", TN, FP, FN, TP)"
   ]
  },
  {
   "cell_type": "code",
   "execution_count": 33,
   "metadata": {
    "scrolled": true
   },
   "outputs": [
    {
     "name": "stdout",
     "output_type": "stream",
     "text": [
      "|Baseline model|1.0000|0.0000|0.5021|0.5021|\n",
      "|Best CountVec - LogReg|0.8786|0.9670|0.9642|0.9226|\n",
      "|Best TfidfVec - LogReg|0.8969|0.9361|0.9341|0.9165|\n",
      "|Best CountVec - MultiNB|0.9214|0.8373|0.8511|0.8795|\n",
      "|Best TfidfVec - SVC|0.8908|0.9331|0.9307|0.9118|\n"
     ]
    }
   ],
   "source": [
    "# Get the equivalent of a single point on the ROC curve for each model\n",
    "x0,y0 = generate_baseline_roc(df_posts.shape[0], baseline_model)\n",
    "x1,y1 = get_roc_points('Best CountVec - LogReg', best_cvlr_model,X_test,y_test)\n",
    "x2,y2 = get_roc_points('Best TfidfVec - LogReg', best_tflr_model,X_test,y_test)\n",
    "x3,y3 = get_roc_points('Best CountVec - MultiNB',best_cvnb_model,X_test,y_test)\n",
    "x4,y4 = get_roc_points('Best TfidfVec - SVC'   , best_tfsv_model,X_test,y_test)"
   ]
  },
  {
   "cell_type": "markdown",
   "metadata": {},
   "source": [
    "**Discussion**\n",
    "\n",
    "Comparison of model performance: (game indicators removed)\n",
    "\n",
    "|Model|Sensitivity | Specificity|Precision | Accuracy|\n",
    "|---|---|---|---|---|\n",
    "|Baseline model|1.0000|0.0000|0.5021|0.5021|\n",
    "|Best CountVec - LogReg|0.8796|0.9670|0.9642|0.9231|\n",
    "|Best TfidfVec - LogReg|0.8969|0.9361|0.9341|0.9165|\n",
    "|Best CountVec - MultiNB|0.9214|0.8373|0.8511|0.8795|\n",
    "|Best TfidfVec - SVC|0.8908|0.9331|0.9307|0.9118|"
   ]
  },
  {
   "cell_type": "code",
   "execution_count": 34,
   "metadata": {},
   "outputs": [],
   "source": [
    "# ROC curve for cvlr model\n",
    "arr = best_cvlr_model.predict_proba(X_test)\n",
    "pred_1 = [x[1] for x in arr]\n",
    "fpr_cvlr, tpr_cvlr, thresholds = roc_curve(y_test,pred_1)"
   ]
  },
  {
   "cell_type": "code",
   "execution_count": 35,
   "metadata": {},
   "outputs": [],
   "source": [
    "# ROC curve for tflr model\n",
    "arr = best_tflr_model.predict_proba(X_test)\n",
    "pred_1 = [x[1] for x in arr]\n",
    "fpr_tflr, tpr_tflr, thresholds = roc_curve(y_test,pred_1)"
   ]
  },
  {
   "cell_type": "code",
   "execution_count": 36,
   "metadata": {},
   "outputs": [
    {
     "data": {
      "text/plain": [
       "Text(0.5, 1.0, 'Model comparison - ROC curves')"
      ]
     },
     "execution_count": 36,
     "metadata": {},
     "output_type": "execute_result"
    },
    {
     "data": {
      "image/png": "[encoded data removed]",
      "text/plain": [
       "<Figure size 504x504 with 1 Axes>"
      ]
     },
     "metadata": {
      "needs_background": "light"
     },
     "output_type": "display_data"
    }
   ],
   "source": [
    "# Plot ROC curves\n",
    "fig = plt.figure(figsize=(7,7))\n",
    "\n",
    "# reference marks - ideal\n",
    "ref = [0,1.0]\n",
    "ref0 = [0,0]\n",
    "ref1 = [1.0,1.0]\n",
    "plt.plot(ref,ref, 'gray',linestyle='--', marker='')\n",
    "plt.plot(ref0,ref, 'lime', linewidth=10, label='Ideal') # left edge\n",
    "plt.plot(ref,ref1, 'lime', linewidth=10) # top edge\n",
    "\n",
    "\n",
    "plt.plot(fpr_cvlr, tpr_cvlr, color='green',label = \"CV+LR Model #1\")\n",
    "plt.plot(fpr_tflr, tpr_tflr, color='blue', label = \"TF+LR Model #2\")\n",
    "\n",
    "\n",
    "# actual data\n",
    "plt.scatter(x1,y1,label=\"CountVec LogReg #1\",color='green',s=60) \n",
    "plt.scatter(x2,y2,label=\"TfidfVec LogReg #2\",color='blue', s=60) \n",
    "plt.scatter(x3,y3,label=\"CountVec MultiNB #3\",color='red', s=60)\n",
    "plt.scatter(x4,y4,label=\"TfidfVec SVC #4\",color='purple', s=60)\n",
    "\n",
    "# reference marks - baseline\n",
    "plt.text(.5, .55,\"Baseline model ROC curve\",rotation=45,fontsize=14)\n",
    "\n",
    "# plot labels\n",
    "plt.legend()\n",
    "plt.ylabel(\"Sensitivity\",fontsize=16)\n",
    "plt.xlabel(\"1 - Specificity\",fontsize=16)\n",
    "plt.xlim(0,1)\n",
    "plt.ylim(0,1)\n",
    "\n",
    "plt.legend(fontsize=14);\n",
    "plt.title('Model comparison - ROC curves',fontsize=16)"
   ]
  },
  {
   "cell_type": "markdown",
   "metadata": {},
   "source": [
    "**Discussion**\n",
    "\n",
    "These initial models all perform well.\n",
    "\n",
    "For the models that use LogisticRegression, the predicted probabilities can be used to generate the ROC curve. \n",
    "\n",
    "For all models, if a confusion matrix can be generated, then there is sufficient information to calculate sensitivity and specificity for at least one decision threshold even if we don't know the threshold. Note that for the LogisticRegression models, this point falls on the ROC curve (as it should).\n",
    "\n",
    "The green line (vertical on left, horizontal across the top) indicates the performance of an ideal model. While none of these models were ideal, they were all significantly better than the baseline."
   ]
  },
  {
   "cell_type": "markdown",
   "metadata": {},
   "source": [
    "## 2. Explore Key Contributors\n",
    "\n",
    "There may be some keywords that make it easy to tell these subreddits apart, and the more interesting differences could be obscured by these. This section will look into these keywords and then possibly add them to the stop words and rerun the models.\n",
    "\n",
    "Once a sufficient number of these 'give-away' terms are removed, the remaining words with high predictive strength may point to some differences in the two communities."
   ]
  },
  {
   "cell_type": "code",
   "execution_count": 37,
   "metadata": {},
   "outputs": [],
   "source": [
    "# CountVectorizer and LogisticRegression are the easiest to decipher\n",
    "vectorizer = best_cvlr_model.named_steps['cvec']\n",
    "classifier = best_cvlr_model.named_steps['lr']"
   ]
  },
  {
   "cell_type": "code",
   "execution_count": 38,
   "metadata": {},
   "outputs": [
    {
     "data": {
      "text/plain": [
       "['weapon color added',\n",
       " 'skill challenge swallow',\n",
       " 'lv2',\n",
       " 'could feed young',\n",
       " 'someone feeling',\n",
       " 'warp leave',\n",
       " 'creatures places',\n",
       " 'killer demonic creature',\n",
       " 'broken dresser']"
      ]
     },
     "execution_count": 38,
     "metadata": {},
     "output_type": "execute_result"
    }
   ],
   "source": [
    "# What was ignored? \n",
    "# These are terms that were ignored because they occured in \n",
    "#.     too many documents (max_df), \n",
    "#.     too few documents (min_df),\n",
    "#.     or were cut off by feature selection (max_features)\n",
    "# https://scikit-learn.org/stable/modules/generated/sklearn.feature_extraction.text.TfidfVectorizer.html\n",
    "\n",
    "list(vectorizer.stop_words_)[:9]  # just look at a few"
   ]
  },
  {
   "cell_type": "code",
   "execution_count": 39,
   "metadata": {},
   "outputs": [
    {
     "name": "stdout",
     "output_type": "stream",
     "text": [
      "vocab_df shape: (7801, 1328)\n"
     ]
    }
   ],
   "source": [
    "# re-vectorize to explore word frequency\n",
    "test_data_features = vectorizer.transform(df_posts['combo_post'])\n",
    "vocab_df = pd.DataFrame(test_data_features.toarray(),\n",
    "                          columns=vectorizer.get_feature_names())\n",
    "print(f\"vocab_df shape: {vocab_df.shape}\")\n",
    "# vocab_df.head(3)"
   ]
  },
  {
   "cell_type": "markdown",
   "metadata": {},
   "source": [
    "**Common Words**"
   ]
  },
  {
   "cell_type": "code",
   "execution_count": 40,
   "metadata": {
    "scrolled": false
   },
   "outputs": [
    {
     "data": {
      "image/png": "[encoded data removed]",
      "text/plain": [
       "<Figure size 432x144 with 1 Axes>"
      ]
     },
     "metadata": {
      "needs_background": "light"
     },
     "output_type": "display_data"
    }
   ],
   "source": [
    "# Most common words in the posts\n",
    "num_words = 7\n",
    "\n",
    "if (num_words < 10):\n",
    "    fig = plt.figure(figsize=(6,2))\n",
    "else:\n",
    "    fig = plt.figure(figsize=(6,12))\n",
    "ax = fig.add_subplot(1,1,1)\n",
    "\n",
    "vocab_df.sum().sort_values(ascending=False).head(num_words).plot(kind='barh',ax = ax)\n",
    "title_str = \"Most common \" + str(num_words) + \" terms among all posts\"\n",
    "ax.set_title(title_str)\n",
    "ax.set_xlabel(\"Number of occurrences\");"
   ]
  },
  {
   "cell_type": "code",
   "execution_count": 41,
   "metadata": {
    "scrolled": false
   },
   "outputs": [
    {
     "data": {
      "image/png": "[encoded data removed]",
      "text/plain": [
       "<Figure size 432x144 with 1 Axes>"
      ]
     },
     "metadata": {
      "needs_background": "light"
     },
     "output_type": "display_data"
    }
   ],
   "source": [
    "# Least common words in the posts\n",
    "num_words = 7\n",
    "\n",
    "if (num_words < 10):\n",
    "    fig = plt.figure(figsize=(6,2))\n",
    "else:\n",
    "    fig = plt.figure(figsize=(6,12))\n",
    "ax = fig.add_subplot(1,1,1)\n",
    "\n",
    "vocab_df.sum().sort_values(ascending=True).head(num_words).plot(kind='barh',ax = ax)\n",
    "title_str = \"Least common \" + str(num_words) + \" terms among all posts\"\n",
    "ax.set_title(title_str)\n",
    "ax.set_xlabel(\"Number of occurrences\");"
   ]
  },
  {
   "cell_type": "markdown",
   "metadata": {},
   "source": [
    "**Discussion**\n",
    "\n",
    "The term \"help\" indicates that these subreddits may be frequented by people in search of help with issues rather than as a place for more general discussion.\n",
    "\n",
    "It's unclear from a simple model that only uses tokenization whether 'like' is a positive sentiment (verb) or is used to make comparisons. This may be something to explore in a follow-up study."
   ]
  },
  {
   "cell_type": "code",
   "execution_count": 42,
   "metadata": {},
   "outputs": [
    {
     "data": {
      "text/plain": [
       "(7801, 6)"
      ]
     },
     "execution_count": 42,
     "metadata": {},
     "output_type": "execute_result"
    }
   ],
   "source": [
    "# Check total number of posts\n",
    "df_posts.shape"
   ]
  },
  {
   "cell_type": "code",
   "execution_count": 43,
   "metadata": {},
   "outputs": [],
   "source": [
    "# Make masks for the subreddits\n",
    "mask_sub1 = df_posts['b_subreddit'] == 1\n",
    "mask_sub0 = df_posts['b_subreddit'] == 0"
   ]
  },
  {
   "cell_type": "code",
   "execution_count": 44,
   "metadata": {},
   "outputs": [
    {
     "data": {
      "text/plain": [
       "3917"
      ]
     },
     "execution_count": 44,
     "metadata": {},
     "output_type": "execute_result"
    }
   ],
   "source": [
    "mask_sub1.sum() # how many posts will it select"
   ]
  },
  {
   "cell_type": "code",
   "execution_count": 45,
   "metadata": {},
   "outputs": [],
   "source": [
    "# Make separate lists of the vocab\n",
    "vocab_df0 = vocab_df[mask_sub0].copy()\n",
    "vocab_df1 = vocab_df[mask_sub1].copy()"
   ]
  },
  {
   "cell_type": "code",
   "execution_count": 46,
   "metadata": {},
   "outputs": [
    {
     "data": {
      "text/plain": [
       "(3917, 1328)"
      ]
     },
     "execution_count": 46,
     "metadata": {},
     "output_type": "execute_result"
    }
   ],
   "source": [
    "vocab_df1.shape # confirm size matches above"
   ]
  },
  {
   "cell_type": "code",
   "execution_count": 47,
   "metadata": {
    "scrolled": false
   },
   "outputs": [
    {
     "data": {
      "image/png": "[encoded data removed]",
      "text/plain": [
       "<Figure size 432x864 with 1 Axes>"
      ]
     },
     "metadata": {
      "needs_background": "light"
     },
     "output_type": "display_data"
    }
   ],
   "source": [
    "# Most common words in the posts\n",
    "\n",
    "num_words = 30\n",
    "\n",
    "if (num_words < 10):\n",
    "    fig = plt.figure(figsize=(6,2))\n",
    "else:\n",
    "    fig = plt.figure(figsize=(6,12))\n",
    "ax = fig.add_subplot(1,1,1)\n",
    "\n",
    "\n",
    "\n",
    "vocab_df0.sum().sort_values(ascending=False).head(num_words).plot(kind='barh')\n",
    "\n",
    "title_str = \"Most common \" + str(num_words) + \" terms in \" + double_dictionary[0]+ \" subreddit\"\n",
    "ax.set_title(title_str, fontsize=14)\n",
    "ax.set_xlabel(\"Number of occurrences\", fontsize=14);"
   ]
  },
  {
   "cell_type": "markdown",
   "metadata": {},
   "source": [
    "**Discussion**\n",
    "\n",
    " - The terms modern, warfare, mw, and mw2 were promininent on this list until placed in stop words. (The intent was to look for predictors other than the actual game names.)"
   ]
  },
  {
   "cell_type": "code",
   "execution_count": 48,
   "metadata": {},
   "outputs": [
    {
     "data": {
      "image/png": "[encoded data removed]",
      "text/plain": [
       "<Figure size 432x864 with 1 Axes>"
      ]
     },
     "metadata": {
      "needs_background": "light"
     },
     "output_type": "display_data"
    }
   ],
   "source": [
    "# Most common words in the posts\n",
    "num_words = 30\n",
    "\n",
    "if (num_words < 10):\n",
    "    fig = plt.figure(figsize=(6,2))\n",
    "else:\n",
    "    fig = plt.figure(figsize=(6,12))\n",
    "ax = fig.add_subplot(1,1,1)\n",
    "\n",
    "vocab_df1.sum().sort_values(ascending=False).head(num_words).plot(kind='barh')\n",
    "\n",
    "title_str = \"Most common \" + str(num_words) + \" terms in \" + double_dictionary[1]+ \" subreddit\"\n",
    "ax.set_title(title_str)\n",
    "ax.set_xlabel(\"Number of occurrences\");"
   ]
  },
  {
   "cell_type": "markdown",
   "metadata": {},
   "source": [
    "**Discussion**\n",
    "\n",
    " - Not surprising, but character and campaign rank near the top. This is likely explained by the way DnD has each player choose a character who joins others on a campaign. These are fundamental game mechanics.\n",
    " - The dm, or dungeon master, is also near the top of the list as is oc meaning 'original character'. These are also game mechanics."
   ]
  },
  {
   "cell_type": "code",
   "execution_count": 49,
   "metadata": {},
   "outputs": [],
   "source": [
    "# The list above is occurrences, but words that occur frequently in both categories \n",
    "#   are likely to be ignored by the vectorizer\n",
    "# Check to see how many of these common words are in the vectorizer's stopwords\n",
    "common = ['like','first','players','get','make','want','know',\n",
    "         'one','like','would','level','way']\n",
    "\n",
    "for cw in common:\n",
    "    if cw in vectorizer.stop_words_:\n",
    "        print(f\"{cw} is in the stopwords (ignored)\")\n",
    "# interesting what was kept as having predictive value -- perhaps another round might see if they really provided\n",
    "#    value or should be removed"
   ]
  },
  {
   "cell_type": "code",
   "execution_count": 50,
   "metadata": {},
   "outputs": [
    {
     "name": "stdout",
     "output_type": "stream",
     "text": [
      "\n",
      "Stats for 'level': \n",
      "subreddit\n",
      "CallOfDuty     39\n",
      "DnD           419\n",
      "Name: subreddit, dtype: int64\n",
      "\n",
      "Stats for 'players': \n",
      "subreddit\n",
      "CallOfDuty     78\n",
      "DnD           512\n",
      "Name: subreddit, dtype: int64\n",
      "\n",
      "Stats for 'campaign': \n",
      "subreddit\n",
      "CallOfDuty     90\n",
      "DnD           692\n",
      "Name: subreddit, dtype: int64\n",
      "\n",
      "Stats for 'thanks': \n",
      "subreddit\n",
      "CallOfDuty    13\n",
      "DnD           37\n",
      "Name: subreddit, dtype: int64\n"
     ]
    }
   ],
   "source": [
    "# Check on how many posts each of these words shows up in for each subreddit\n",
    "interesting = ['level','players','campaign','thanks']\n",
    "for iword in interesting:\n",
    "    print(\"\\nStats for \\'{}\\': \\n{}\".format(iword,\n",
    "        df_posts[df_posts['combo_post'].str.contains(iword)].groupby('subreddit')['subreddit'].count()))"
   ]
  },
  {
   "cell_type": "markdown",
   "metadata": {},
   "source": [
    "**Discussion**\n",
    "\n",
    "- My preconceived ideas of what differences would appear included the idea that the DnD players might be more accustomed to co-op play mode and that this might show up in how they interacted. The 37-to-13 ratio of the use of 'thanks' might be interesting to explore.\n",
    "- The very high ration of 512-to-78 for the word 'players' seems very odd; both games require players! This might also be worth exploring."
   ]
  },
  {
   "cell_type": "markdown",
   "metadata": {},
   "source": [
    "**Best Words for Differentiating**"
   ]
  },
  {
   "cell_type": "code",
   "execution_count": 51,
   "metadata": {},
   "outputs": [
    {
     "data": {
      "text/html": [
       "<div>\n",
       "<style scoped>\n",
       "    .dataframe tbody tr th:only-of-type {\n",
       "        vertical-align: middle;\n",
       "    }\n",
       "\n",
       "    .dataframe tbody tr th {\n",
       "        vertical-align: top;\n",
       "    }\n",
       "\n",
       "    .dataframe thead th {\n",
       "        text-align: right;\n",
       "    }\n",
       "</style>\n",
       "<table border=\"1\" class=\"dataframe\">\n",
       "  <thead>\n",
       "    <tr style=\"text-align: right;\">\n",
       "      <th></th>\n",
       "      <th>beta_coef</th>\n",
       "      <th>exp_coef</th>\n",
       "    </tr>\n",
       "  </thead>\n",
       "  <tbody>\n",
       "    <tr>\n",
       "      <th>10</th>\n",
       "      <td>0.000000</td>\n",
       "      <td>1.000000</td>\n",
       "    </tr>\n",
       "    <tr>\n",
       "      <th>100</th>\n",
       "      <td>-0.853933</td>\n",
       "      <td>0.425737</td>\n",
       "    </tr>\n",
       "    <tr>\n",
       "      <th>11</th>\n",
       "      <td>-0.202387</td>\n",
       "      <td>0.816779</td>\n",
       "    </tr>\n",
       "    <tr>\n",
       "      <th>12</th>\n",
       "      <td>-0.039602</td>\n",
       "      <td>0.961172</td>\n",
       "    </tr>\n",
       "    <tr>\n",
       "      <th>13</th>\n",
       "      <td>0.000000</td>\n",
       "      <td>1.000000</td>\n",
       "    </tr>\n",
       "  </tbody>\n",
       "</table>\n",
       "</div>"
      ],
      "text/plain": [
       "     beta_coef  exp_coef\n",
       "10    0.000000  1.000000\n",
       "100  -0.853933  0.425737\n",
       "11   -0.202387  0.816779\n",
       "12   -0.039602  0.961172\n",
       "13    0.000000  1.000000"
      ]
     },
     "execution_count": 51,
     "metadata": {},
     "output_type": "execute_result"
    }
   ],
   "source": [
    "# Credits: Reem Mokhtar, for showing code so I could compare when my results were odd\n",
    "# stackoverflow for confirming the correction to my code\n",
    "# https://stackoverflow.com/questions/58165337/how-to-get-word-importance-in-nlp-tfidf-logistic-regression\n",
    "# Reminder! use get_feature_names() not .vocabulary_ to match with coefficients\n",
    "\n",
    "# Find the coefficients\n",
    "feature_coefs = classifier.coef_[0]\n",
    "\n",
    "# Find the features in the same order\n",
    "feature_names = vectorizer.get_feature_names()\n",
    "\n",
    "# Pair them up in a DataFrame\n",
    "\n",
    "df_features = pd.DataFrame(feature_coefs, index=feature_names, columns=['beta_coef'])\n",
    "df_features['exp_coef'] = df_features['beta_coef'].apply(lambda x: np.exp(x))\n",
    "df_features.head()"
   ]
  },
  {
   "cell_type": "code",
   "execution_count": 52,
   "metadata": {},
   "outputs": [
    {
     "name": "stdout",
     "output_type": "stream",
     "text": [
      "Highest correlations with DnD\n"
     ]
    },
    {
     "data": {
      "text/html": [
       "<div>\n",
       "<style scoped>\n",
       "    .dataframe tbody tr th:only-of-type {\n",
       "        vertical-align: middle;\n",
       "    }\n",
       "\n",
       "    .dataframe tbody tr th {\n",
       "        vertical-align: top;\n",
       "    }\n",
       "\n",
       "    .dataframe thead th {\n",
       "        text-align: right;\n",
       "    }\n",
       "</style>\n",
       "<table border=\"1\" class=\"dataframe\">\n",
       "  <thead>\n",
       "    <tr style=\"text-align: right;\">\n",
       "      <th></th>\n",
       "      <th>beta_coef</th>\n",
       "      <th>exp_coef</th>\n",
       "    </tr>\n",
       "  </thead>\n",
       "  <tbody>\n",
       "    <tr>\n",
       "      <th>oc</th>\n",
       "      <td>5.332020</td>\n",
       "      <td>206.855482</td>\n",
       "    </tr>\n",
       "    <tr>\n",
       "      <th>art</th>\n",
       "      <td>4.861397</td>\n",
       "      <td>129.204566</td>\n",
       "    </tr>\n",
       "    <tr>\n",
       "      <th>dm</th>\n",
       "      <td>3.716613</td>\n",
       "      <td>41.124865</td>\n",
       "    </tr>\n",
       "    <tr>\n",
       "      <th>dice</th>\n",
       "      <td>3.655968</td>\n",
       "      <td>38.704986</td>\n",
       "    </tr>\n",
       "    <tr>\n",
       "      <th>bard</th>\n",
       "      <td>3.579510</td>\n",
       "      <td>35.855961</td>\n",
       "    </tr>\n",
       "    <tr>\n",
       "      <th>monster</th>\n",
       "      <td>3.459178</td>\n",
       "      <td>31.790842</td>\n",
       "    </tr>\n",
       "    <tr>\n",
       "      <th>homebrew</th>\n",
       "      <td>3.386214</td>\n",
       "      <td>29.553857</td>\n",
       "    </tr>\n",
       "    <tr>\n",
       "      <th>cleric</th>\n",
       "      <td>3.292903</td>\n",
       "      <td>26.920900</td>\n",
       "    </tr>\n",
       "    <tr>\n",
       "      <th>druid</th>\n",
       "      <td>3.139107</td>\n",
       "      <td>23.083252</td>\n",
       "    </tr>\n",
       "    <tr>\n",
       "      <th>warlock</th>\n",
       "      <td>3.090921</td>\n",
       "      <td>21.997324</td>\n",
       "    </tr>\n",
       "    <tr>\n",
       "      <th>wizard</th>\n",
       "      <td>3.065501</td>\n",
       "      <td>21.445196</td>\n",
       "    </tr>\n",
       "    <tr>\n",
       "      <th>adventure</th>\n",
       "      <td>3.057455</td>\n",
       "      <td>21.273354</td>\n",
       "    </tr>\n",
       "    <tr>\n",
       "      <th>table</th>\n",
       "      <td>3.027844</td>\n",
       "      <td>20.652663</td>\n",
       "    </tr>\n",
       "    <tr>\n",
       "      <th>paladin</th>\n",
       "      <td>2.997589</td>\n",
       "      <td>20.037176</td>\n",
       "    </tr>\n",
       "    <tr>\n",
       "      <th>book</th>\n",
       "      <td>2.997479</td>\n",
       "      <td>20.034962</td>\n",
       "    </tr>\n",
       "    <tr>\n",
       "      <th>barbarian</th>\n",
       "      <td>2.974966</td>\n",
       "      <td>19.588951</td>\n",
       "    </tr>\n",
       "    <tr>\n",
       "      <th>pcs</th>\n",
       "      <td>2.954903</td>\n",
       "      <td>19.199870</td>\n",
       "    </tr>\n",
       "    <tr>\n",
       "      <th>dms</th>\n",
       "      <td>2.862834</td>\n",
       "      <td>17.511086</td>\n",
       "    </tr>\n",
       "    <tr>\n",
       "      <th>fighter</th>\n",
       "      <td>2.745674</td>\n",
       "      <td>15.575106</td>\n",
       "    </tr>\n",
       "    <tr>\n",
       "      <th>character</th>\n",
       "      <td>2.742370</td>\n",
       "      <td>15.523726</td>\n",
       "    </tr>\n",
       "  </tbody>\n",
       "</table>\n",
       "</div>"
      ],
      "text/plain": [
       "           beta_coef    exp_coef\n",
       "oc          5.332020  206.855482\n",
       "art         4.861397  129.204566\n",
       "dm          3.716613   41.124865\n",
       "dice        3.655968   38.704986\n",
       "bard        3.579510   35.855961\n",
       "monster     3.459178   31.790842\n",
       "homebrew    3.386214   29.553857\n",
       "cleric      3.292903   26.920900\n",
       "druid       3.139107   23.083252\n",
       "warlock     3.090921   21.997324\n",
       "wizard      3.065501   21.445196\n",
       "adventure   3.057455   21.273354\n",
       "table       3.027844   20.652663\n",
       "paladin     2.997589   20.037176\n",
       "book        2.997479   20.034962\n",
       "barbarian   2.974966   19.588951\n",
       "pcs         2.954903   19.199870\n",
       "dms         2.862834   17.511086\n",
       "fighter     2.745674   15.575106\n",
       "character   2.742370   15.523726"
      ]
     },
     "execution_count": 52,
     "metadata": {},
     "output_type": "execute_result"
    }
   ],
   "source": [
    "# Highest exp_coef are strongly correlated with the '1' class\n",
    "print(f\"Highest correlations with {double_dictionary[1]}\")\n",
    "df_features.sort_values(by='exp_coef',ascending=False).head(20)\n"
   ]
  },
  {
   "cell_type": "code",
   "execution_count": 53,
   "metadata": {},
   "outputs": [
    {
     "name": "stdout",
     "output_type": "stream",
     "text": [
      "Highest correlations with CallOfDuty\n"
     ]
    },
    {
     "data": {
      "text/html": [
       "<div>\n",
       "<style scoped>\n",
       "    .dataframe tbody tr th:only-of-type {\n",
       "        vertical-align: middle;\n",
       "    }\n",
       "\n",
       "    .dataframe tbody tr th {\n",
       "        vertical-align: top;\n",
       "    }\n",
       "\n",
       "    .dataframe thead th {\n",
       "        text-align: right;\n",
       "    }\n",
       "</style>\n",
       "<table border=\"1\" class=\"dataframe\">\n",
       "  <thead>\n",
       "    <tr style=\"text-align: right;\">\n",
       "      <th></th>\n",
       "      <th>beta_coef</th>\n",
       "      <th>exp_coef</th>\n",
       "    </tr>\n",
       "  </thead>\n",
       "  <tbody>\n",
       "    <tr>\n",
       "      <th>warzone</th>\n",
       "      <td>-3.233675</td>\n",
       "      <td>0.039412</td>\n",
       "    </tr>\n",
       "    <tr>\n",
       "      <th>multiplayer</th>\n",
       "      <td>-3.054731</td>\n",
       "      <td>0.047135</td>\n",
       "    </tr>\n",
       "    <tr>\n",
       "      <th>ops</th>\n",
       "      <td>-2.718642</td>\n",
       "      <td>0.065964</td>\n",
       "    </tr>\n",
       "    <tr>\n",
       "      <th>remastered</th>\n",
       "      <td>-2.552993</td>\n",
       "      <td>0.077848</td>\n",
       "    </tr>\n",
       "    <tr>\n",
       "      <th>waw</th>\n",
       "      <td>-2.420123</td>\n",
       "      <td>0.088911</td>\n",
       "    </tr>\n",
       "    <tr>\n",
       "      <th>opinion</th>\n",
       "      <td>-2.068902</td>\n",
       "      <td>0.126324</td>\n",
       "    </tr>\n",
       "    <tr>\n",
       "      <th>lobby</th>\n",
       "      <td>-1.955830</td>\n",
       "      <td>0.141447</td>\n",
       "    </tr>\n",
       "    <tr>\n",
       "      <th>mission</th>\n",
       "      <td>-1.945426</td>\n",
       "      <td>0.142926</td>\n",
       "    </tr>\n",
       "    <tr>\n",
       "      <th>zombies</th>\n",
       "      <td>-1.917476</td>\n",
       "      <td>0.146977</td>\n",
       "    </tr>\n",
       "    <tr>\n",
       "      <th>wwii</th>\n",
       "      <td>-1.907772</td>\n",
       "      <td>0.148411</td>\n",
       "    </tr>\n",
       "    <tr>\n",
       "      <th>2019</th>\n",
       "      <td>-1.897370</td>\n",
       "      <td>0.149963</td>\n",
       "    </tr>\n",
       "    <tr>\n",
       "      <th>skin</th>\n",
       "      <td>-1.847401</td>\n",
       "      <td>0.157646</td>\n",
       "    </tr>\n",
       "    <tr>\n",
       "      <th>ww2</th>\n",
       "      <td>-1.802237</td>\n",
       "      <td>0.164930</td>\n",
       "    </tr>\n",
       "    <tr>\n",
       "      <th>day</th>\n",
       "      <td>-1.757508</td>\n",
       "      <td>0.172474</td>\n",
       "    </tr>\n",
       "    <tr>\n",
       "      <th>activision</th>\n",
       "      <td>-1.687389</td>\n",
       "      <td>0.185002</td>\n",
       "    </tr>\n",
       "    <tr>\n",
       "      <th>servers</th>\n",
       "      <td>-1.674935</td>\n",
       "      <td>0.187320</td>\n",
       "    </tr>\n",
       "    <tr>\n",
       "      <th>2020</th>\n",
       "      <td>-1.558250</td>\n",
       "      <td>0.210504</td>\n",
       "    </tr>\n",
       "    <tr>\n",
       "      <th>fix</th>\n",
       "      <td>-1.546248</td>\n",
       "      <td>0.213046</td>\n",
       "    </tr>\n",
       "    <tr>\n",
       "      <th>mobile</th>\n",
       "      <td>-1.480601</td>\n",
       "      <td>0.227501</td>\n",
       "    </tr>\n",
       "    <tr>\n",
       "      <th>destroy</th>\n",
       "      <td>-1.443786</td>\n",
       "      <td>0.236032</td>\n",
       "    </tr>\n",
       "  </tbody>\n",
       "</table>\n",
       "</div>"
      ],
      "text/plain": [
       "             beta_coef  exp_coef\n",
       "warzone      -3.233675  0.039412\n",
       "multiplayer  -3.054731  0.047135\n",
       "ops          -2.718642  0.065964\n",
       "remastered   -2.552993  0.077848\n",
       "waw          -2.420123  0.088911\n",
       "opinion      -2.068902  0.126324\n",
       "lobby        -1.955830  0.141447\n",
       "mission      -1.945426  0.142926\n",
       "zombies      -1.917476  0.146977\n",
       "wwii         -1.907772  0.148411\n",
       "2019         -1.897370  0.149963\n",
       "skin         -1.847401  0.157646\n",
       "ww2          -1.802237  0.164930\n",
       "day          -1.757508  0.172474\n",
       "activision   -1.687389  0.185002\n",
       "servers      -1.674935  0.187320\n",
       "2020         -1.558250  0.210504\n",
       "fix          -1.546248  0.213046\n",
       "mobile       -1.480601  0.227501\n",
       "destroy      -1.443786  0.236032"
      ]
     },
     "execution_count": 53,
     "metadata": {},
     "output_type": "execute_result"
    }
   ],
   "source": [
    "# Lowest exp_coef are strongly correlated with the '0' class\n",
    "print(f\"Highest correlations with {double_dictionary[0]}\")\n",
    "df_features.sort_values(by='exp_coef',ascending=True).head(20)"
   ]
  },
  {
   "cell_type": "markdown",
   "metadata": {},
   "source": [
    "**Discussion**\n",
    "\n",
    " - The original list had a number of indicators of editions: bo, mw, mw2, mw3.\n",
    " - A suprising find is 'lobby'; this is a pre-game \"warm-up\" area for Call of Duty.\n",
    " - Both lists feature game mechanics promininently. Differences that show up in the first few that might be worth exploring include\n",
    "  - Call of Duty: remastered and opinion\n",
    "  - Dungeons and Dragons: art and homebrew\n",
    "  - One hypothesis might be that DnD players have a more creative role to play in game and so they are thinking more creatively when talking about the game."
   ]
  },
  {
   "cell_type": "code",
   "execution_count": 54,
   "metadata": {},
   "outputs": [
    {
     "data": {
      "text/html": [
       "<div>\n",
       "<style scoped>\n",
       "    .dataframe tbody tr th:only-of-type {\n",
       "        vertical-align: middle;\n",
       "    }\n",
       "\n",
       "    .dataframe tbody tr th {\n",
       "        vertical-align: top;\n",
       "    }\n",
       "\n",
       "    .dataframe thead th {\n",
       "        text-align: right;\n",
       "    }\n",
       "</style>\n",
       "<table border=\"1\" class=\"dataframe\">\n",
       "  <thead>\n",
       "    <tr style=\"text-align: right;\">\n",
       "      <th></th>\n",
       "      <th>subreddit</th>\n",
       "      <th>cleaned_post</th>\n",
       "    </tr>\n",
       "  </thead>\n",
       "  <tbody>\n",
       "    <tr>\n",
       "      <th>0</th>\n",
       "      <td>CallOfDuty</td>\n",
       "      <td>[BO2] got a question I tried MW2 for ages earl...</td>\n",
       "    </tr>\n",
       "    <tr>\n",
       "      <th>21</th>\n",
       "      <td>CallOfDuty</td>\n",
       "      <td>[MW2] can’t find lobbys Can’t find any lobbies...</td>\n",
       "    </tr>\n",
       "    <tr>\n",
       "      <th>22</th>\n",
       "      <td>CallOfDuty</td>\n",
       "      <td>MW2 lobby’s [removed]</td>\n",
       "    </tr>\n",
       "  </tbody>\n",
       "</table>\n",
       "</div>"
      ],
      "text/plain": [
       "     subreddit                                       cleaned_post\n",
       "0   CallOfDuty  [BO2] got a question I tried MW2 for ages earl...\n",
       "21  CallOfDuty  [MW2] can’t find lobbys Can’t find any lobbies...\n",
       "22  CallOfDuty                              MW2 lobby’s [removed]"
      ]
     },
     "execution_count": 54,
     "metadata": {},
     "output_type": "execute_result"
    }
   ],
   "source": [
    "# Track down one of the posts that has a specific phrase\n",
    "df_posts.loc[df_posts['combo_post'].str.contains('lobby'),['subreddit',\n",
    "                                                            'cleaned_post']][:3]\n",
    "# Looked this up and discovered that a lobby is a component of the game"
   ]
  },
  {
   "cell_type": "code",
   "execution_count": 55,
   "metadata": {},
   "outputs": [
    {
     "name": "stdout",
     "output_type": "stream",
     "text": [
      "\n",
      "Stats for 'lore': \n",
      "subreddit\n",
      "CallOfDuty     5\n",
      "DnD           92\n",
      "Name: subreddit, dtype: int64\n",
      "\n",
      "Stats for 'elf': \n",
      "subreddit\n",
      "CallOfDuty     46\n",
      "DnD           303\n",
      "Name: subreddit, dtype: int64\n",
      "\n",
      "Stats for 'ranger': \n",
      "subreddit\n",
      "DnD    66\n",
      "Name: subreddit, dtype: int64\n",
      "\n",
      "Stats for 'wizard': \n",
      "subreddit\n",
      "DnD    143\n",
      "Name: subreddit, dtype: int64\n",
      "\n",
      "Stats for 'homebrew': \n",
      "subreddit\n",
      "DnD    209\n",
      "Name: subreddit, dtype: int64\n",
      "\n",
      "Stats for 'party': \n",
      "subreddit\n",
      "CallOfDuty      6\n",
      "DnD           415\n",
      "Name: subreddit, dtype: int64\n"
     ]
    }
   ],
   "source": [
    "# Query some raw data on these words\n",
    "interesting = ['lore','elf','ranger','wizard','homebrew','party']\n",
    "for iword in interesting:\n",
    "    print(\"\\nStats for \\'{}\\': \\n{}\".format(iword,\n",
    "        df_posts[df_posts['combo_post'].str.contains(iword)].groupby('subreddit')['subreddit'].count()))"
   ]
  },
  {
   "cell_type": "markdown",
   "metadata": {},
   "source": [
    "**Discussion**\n",
    "\n",
    "- Terms like 'elf' and 'lore' are usually associated more with a high fantasy game (DnD) versus a low fantasy game (CoD) but they do show up in the CoD subreddit.\n",
    "- \"Party\" is a term often used for \"group\" in DnD, such as a \"raiding party.\""
   ]
  },
  {
   "cell_type": "code",
   "execution_count": 56,
   "metadata": {},
   "outputs": [
    {
     "name": "stdout",
     "output_type": "stream",
     "text": [
      "Reminder -- the baseline is 0.502115113446994 to predict DnD\n"
     ]
    }
   ],
   "source": [
    "print(f\"Reminder -- the baseline is {baseline_model} to predict {double_dictionary[1]}\")"
   ]
  },
  {
   "cell_type": "code",
   "execution_count": 57,
   "metadata": {},
   "outputs": [
    {
     "name": "stdout",
     "output_type": "stream",
     "text": [
      "Summary for best_cv model:\n",
      "\n",
      "    TN, FP, FN, TP:   939 32 119 861\n",
      "  sensitivity: 0.8786\n",
      "  specificity: 0.9670\n",
      "  precision:   0.9642\n",
      "  accuracy:    0.9226\n",
      "|best_cvlr|0.8786|0.9670|0.9642|0.9226|\n"
     ]
    }
   ],
   "source": [
    "# get the predictions\n",
    "y_pred = best_cvlr_model.predict(X_test)\n",
    "\n",
    "print(f\"Summary for best_cv model:\\n\")\n",
    "\n",
    "TN, FP, FN, TP = confusion_matrix(y_test,y_pred).ravel()\n",
    "print(f\"    TN, FP, FN, TP:   {TN} {FP} {FN} {TP}\")\n",
    "sensitivity = TP/(TP+FN)\n",
    "specificity = TN/(TN+FP)\n",
    "precision = TP/(TP+FP)\n",
    "accuracy = (TP+TN)/(TP+FP+TN+FN)\n",
    "\n",
    "\n",
    "print(f\"  sensitivity: {sensitivity:.4f}\")\n",
    "print(f\"  specificity: {specificity:.4f}\")\n",
    "print(f\"  precision:   {precision:.4f}\")\n",
    "print(f\"  accuracy:    {accuracy:.4f}\")\n",
    "print(f\"|best_cvlr|{sensitivity:.4f}|{specificity:.4f}|{precision:.4f}|{accuracy:.4f}|\")"
   ]
  },
  {
   "cell_type": "code",
   "execution_count": 58,
   "metadata": {},
   "outputs": [
    {
     "name": "stdout",
     "output_type": "stream",
     "text": [
      "Confusion Matrix for 1=DnD and 0=CallOfDuty\n"
     ]
    },
    {
     "data": {
      "image/png": "[encoded data removed]",
      "text/plain": [
       "<Figure size 1008x432 with 4 Axes>"
      ]
     },
     "metadata": {
      "needs_background": "light"
     },
     "output_type": "display_data"
    }
   ],
   "source": [
    "fig = plt.figure(figsize=(14,6))\n",
    "#fig = plt.figure()\n",
    "ax1 = fig.add_subplot(1,2,1)\n",
    "plot_confusion_matrix(best_cvlr_model, X_train, y_train, \n",
    "#                      display_labels=X_test.columns, \n",
    "                      cmap=\"PuBu\", \n",
    "                      values_format='4g', ax=ax1);\n",
    "#plt.title(\"Best CVec+LogReg on TRAIN data\",fontsize=14)\n",
    "plt.title(\"Best Model Performance on TRAIN data\",fontsize=14) # generate simple title for presentation\n",
    "\n",
    "ax2 = fig.add_subplot(1,2,2)\n",
    "plot_confusion_matrix(best_cvlr_model, X_test, y_test, \n",
    "#                      display_labels=X_test.columns, \n",
    "                      cmap=\"PuBu\", \n",
    "                      values_format='4g', ax=ax2);\n",
    "#plt.title(\"Best CVec+LogReg on TEST data\",fontsize=14)\n",
    "plt.title(\"Best Model Performance on TEST data\",fontsize=14) # generate simple title for presentation\n",
    "sup_str = 'Confusion Matrix for 1={double_dictionary[1]} and 0={double_dictionary[0]}'\n",
    "print(f'Confusion Matrix for 1={double_dictionary[1]} and 0={double_dictionary[0]}')\n",
    "plt.tight_layout();"
   ]
  },
  {
   "cell_type": "markdown",
   "metadata": {},
   "source": [
    "## Conclusions"
   ]
  },
  {
   "cell_type": "markdown",
   "metadata": {},
   "source": [
    "In conclusion, the 4 models built and evaluated\n",
    "\n",
    " - CountVectorizer + LogisticRegression\n",
    " - TfidfVectorizer + LogisticRegression\n",
    " - CountVectorizer + MultinomialNB (Naive Bayes)\n",
    " - TfidfVectorizer + SVC (Support Vector Classifier)\n",
    "    \n",
    "all performed similarly, correctly predicting the post ~92% of the time. This is a significant improvement over the baseline model of 50% correct predictions.\n",
    "\n",
    "Given that the models are doing a good job of predicting, the features and coefficients of the LogisticRegression models can be explored to see if there are any insights into the differences between these 2 groups.\n",
    "\n",
    "The top words for both games consist primarily of settings and game mechanics. For each game, the words that stood out most to me were\n",
    " - **Call of Duty**\n",
    "  - **remastered** -- one of the Modern Warfare editions is being remastered; XBOX version is already out and PS3 is expected in less than a month\n",
    "  - **opinion**\n",
    "  \n",
    " - **Dungeons and Dragons**\n",
    "  - **art** -- there were many posts that amounted to \"look at this art!\" and several along the lines of \"I'm bored in quarantine, would you like me to make some art for your character?\"\n",
    "  - **homebrew** -- this is a term akin to 'fan fiction' that refers to game related props or other items that are created by the players and not by the game designers\n",
    "\n",
    "At this time, it is only speculation as to whether this is a consistent theme indicating higher creative energy in the DnD players. A follow-up study including more posts, excluding more give-away words, and possibly exploring semantics might allow additional inferences to be drawn."
   ]
  }
 ],
 "metadata": {
  "kernelspec": {
   "display_name": "Python 3",
   "language": "python",
   "name": "python3"
  },
  "language_info": {
   "codemirror_mode": {
    "name": "ipython",
    "version": 3
   },
   "file_extension": ".py",
   "mimetype": "text/x-python",
   "name": "python",
   "nbconvert_exporter": "python",
   "pygments_lexer": "ipython3",
   "version": "3.7.7"
  }
 },
 "nbformat": 4,
 "nbformat_minor": 4
}
